{
 "cells": [
  {
   "cell_type": "code",
   "execution_count": 304,
   "metadata": {},
   "outputs": [],
   "source": [
    "import pandas as pd\n",
    "import numpy as np "
   ]
  },
  {
   "cell_type": "code",
   "execution_count": 305,
   "metadata": {},
   "outputs": [
    {
     "data": {
      "text/html": [
       "<div>\n",
       "<style scoped>\n",
       "    .dataframe tbody tr th:only-of-type {\n",
       "        vertical-align: middle;\n",
       "    }\n",
       "\n",
       "    .dataframe tbody tr th {\n",
       "        vertical-align: top;\n",
       "    }\n",
       "\n",
       "    .dataframe thead th {\n",
       "        text-align: right;\n",
       "    }\n",
       "</style>\n",
       "<table border=\"1\" class=\"dataframe\">\n",
       "  <thead>\n",
       "    <tr style=\"text-align: right;\">\n",
       "      <th></th>\n",
       "      <th>id</th>\n",
       "      <th>status</th>\n",
       "      <th>sort</th>\n",
       "      <th>name</th>\n",
       "      <th>slug</th>\n",
       "      <th>image</th>\n",
       "      <th>description</th>\n",
       "      <th>type</th>\n",
       "      <th>crosses</th>\n",
       "      <th>breeder</th>\n",
       "      <th>...</th>\n",
       "      <th>cbn</th>\n",
       "      <th>cbg</th>\n",
       "      <th>cbgm</th>\n",
       "      <th>cbgv</th>\n",
       "      <th>cbc</th>\n",
       "      <th>cbcv</th>\n",
       "      <th>cbv</th>\n",
       "      <th>cbe</th>\n",
       "      <th>cbt</th>\n",
       "      <th>cbl</th>\n",
       "    </tr>\n",
       "  </thead>\n",
       "  <tbody>\n",
       "    <tr>\n",
       "      <th>0</th>\n",
       "      <td>1</td>\n",
       "      <td>1</td>\n",
       "      <td>0</td>\n",
       "      <td>100 OG</td>\n",
       "      <td>NaN</td>\n",
       "      <td>NaN</td>\n",
       "      <td>&lt;p&gt;This strain is named after it's high price ...</td>\n",
       "      <td>Hybrid</td>\n",
       "      <td>NaN</td>\n",
       "      <td>Old School Breeder's Association</td>\n",
       "      <td>...</td>\n",
       "      <td>10</td>\n",
       "      <td>0.0</td>\n",
       "      <td>0.0</td>\n",
       "      <td>0.0</td>\n",
       "      <td>0.0</td>\n",
       "      <td>0.0</td>\n",
       "      <td>0.0</td>\n",
       "      <td>0.0</td>\n",
       "      <td>0.0</td>\n",
       "      <td>0.0</td>\n",
       "    </tr>\n",
       "    <tr>\n",
       "      <th>1</th>\n",
       "      <td>2</td>\n",
       "      <td>1</td>\n",
       "      <td>0</td>\n",
       "      <td>707 Headband</td>\n",
       "      <td>NaN</td>\n",
       "      <td>NaN</td>\n",
       "      <td>NaN</td>\n",
       "      <td>Hybrid</td>\n",
       "      <td>378,272</td>\n",
       "      <td>Unknown Breeder</td>\n",
       "      <td>...</td>\n",
       "      <td>0</td>\n",
       "      <td>NaN</td>\n",
       "      <td>NaN</td>\n",
       "      <td>NaN</td>\n",
       "      <td>NaN</td>\n",
       "      <td>NaN</td>\n",
       "      <td>NaN</td>\n",
       "      <td>NaN</td>\n",
       "      <td>NaN</td>\n",
       "      <td>NaN</td>\n",
       "    </tr>\n",
       "    <tr>\n",
       "      <th>2</th>\n",
       "      <td>3</td>\n",
       "      <td>1</td>\n",
       "      <td>0</td>\n",
       "      <td>A-10</td>\n",
       "      <td>NaN</td>\n",
       "      <td>NaN</td>\n",
       "      <td>NaN</td>\n",
       "      <td>Indica</td>\n",
       "      <td>0</td>\n",
       "      <td>NaN</td>\n",
       "      <td>...</td>\n",
       "      <td>0</td>\n",
       "      <td>NaN</td>\n",
       "      <td>NaN</td>\n",
       "      <td>NaN</td>\n",
       "      <td>NaN</td>\n",
       "      <td>NaN</td>\n",
       "      <td>NaN</td>\n",
       "      <td>NaN</td>\n",
       "      <td>NaN</td>\n",
       "      <td>NaN</td>\n",
       "    </tr>\n",
       "    <tr>\n",
       "      <th>3</th>\n",
       "      <td>4</td>\n",
       "      <td>1</td>\n",
       "      <td>0</td>\n",
       "      <td>Acapulco Gold</td>\n",
       "      <td>NaN</td>\n",
       "      <td>NaN</td>\n",
       "      <td>NaN</td>\n",
       "      <td>Sativa</td>\n",
       "      <td>0</td>\n",
       "      <td>NaN</td>\n",
       "      <td>...</td>\n",
       "      <td>0</td>\n",
       "      <td>NaN</td>\n",
       "      <td>NaN</td>\n",
       "      <td>NaN</td>\n",
       "      <td>NaN</td>\n",
       "      <td>NaN</td>\n",
       "      <td>NaN</td>\n",
       "      <td>NaN</td>\n",
       "      <td>NaN</td>\n",
       "      <td>NaN</td>\n",
       "    </tr>\n",
       "    <tr>\n",
       "      <th>4</th>\n",
       "      <td>5</td>\n",
       "      <td>1</td>\n",
       "      <td>0</td>\n",
       "      <td>Afghani Bullrider</td>\n",
       "      <td>NaN</td>\n",
       "      <td>NaN</td>\n",
       "      <td>NaN</td>\n",
       "      <td>Hybrid</td>\n",
       "      <td>0</td>\n",
       "      <td>Unknown Breeder</td>\n",
       "      <td>...</td>\n",
       "      <td>0</td>\n",
       "      <td>NaN</td>\n",
       "      <td>NaN</td>\n",
       "      <td>NaN</td>\n",
       "      <td>NaN</td>\n",
       "      <td>NaN</td>\n",
       "      <td>NaN</td>\n",
       "      <td>NaN</td>\n",
       "      <td>NaN</td>\n",
       "      <td>NaN</td>\n",
       "    </tr>\n",
       "  </tbody>\n",
       "</table>\n",
       "<p>5 rows × 31 columns</p>\n",
       "</div>"
      ],
      "text/plain": [
       "   id  status  sort               name  slug  image  \\\n",
       "0   1       1     0             100 OG   NaN    NaN   \n",
       "1   2       1     0       707 Headband   NaN    NaN   \n",
       "2   3       1     0               A-10   NaN    NaN   \n",
       "3   4       1     0      Acapulco Gold   NaN    NaN   \n",
       "4   5       1     0  Afghani Bullrider   NaN    NaN   \n",
       "\n",
       "                                         description    type  crosses  \\\n",
       "0  <p>This strain is named after it's high price ...  Hybrid      NaN   \n",
       "1                                                NaN  Hybrid  378,272   \n",
       "2                                                NaN  Indica        0   \n",
       "3                                                NaN  Sativa        0   \n",
       "4                                                NaN  Hybrid        0   \n",
       "\n",
       "                            breeder  ... cbn  cbg cbgm cbgv  cbc  cbcv  cbv  \\\n",
       "0  Old School Breeder's Association  ...  10  0.0  0.0  0.0  0.0   0.0  0.0   \n",
       "1                   Unknown Breeder  ...   0  NaN  NaN  NaN  NaN   NaN  NaN   \n",
       "2                               NaN  ...   0  NaN  NaN  NaN  NaN   NaN  NaN   \n",
       "3                               NaN  ...   0  NaN  NaN  NaN  NaN   NaN  NaN   \n",
       "4                   Unknown Breeder  ...   0  NaN  NaN  NaN  NaN   NaN  NaN   \n",
       "\n",
       "   cbe  cbt  cbl  \n",
       "0  0.0  0.0  0.0  \n",
       "1  NaN  NaN  NaN  \n",
       "2  NaN  NaN  NaN  \n",
       "3  NaN  NaN  NaN  \n",
       "4  NaN  NaN  NaN  \n",
       "\n",
       "[5 rows x 31 columns]"
      ]
     },
     "execution_count": 305,
     "metadata": {},
     "output_type": "execute_result"
    }
   ],
   "source": [
    "#explorando datos y limpiando\n",
    "\n",
    "data = pd.read_csv('strains-kushy_api.2017-11-14.csv')\n",
    "data.head()"
   ]
  },
  {
   "cell_type": "code",
   "execution_count": 306,
   "metadata": {},
   "outputs": [
    {
     "data": {
      "text/plain": [
       "Index(['id', 'status', 'sort', 'name', 'slug', 'image', 'description', 'type',\n",
       "       'crosses', 'breeder', 'effects', 'ailment', 'flavor', 'location',\n",
       "       'terpenes', 'thc', 'thca', 'thcv', 'cbd', 'cbda', 'cbdv', 'cbn', 'cbg',\n",
       "       'cbgm', 'cbgv', 'cbc', 'cbcv', 'cbv', 'cbe', 'cbt', 'cbl'],\n",
       "      dtype='object')"
      ]
     },
     "execution_count": 306,
     "metadata": {},
     "output_type": "execute_result"
    }
   ],
   "source": [
    "data.columns"
   ]
  },
  {
   "cell_type": "code",
   "execution_count": 307,
   "metadata": {},
   "outputs": [
    {
     "data": {
      "text/plain": [
       "array([\"<p>This strain is named after it's high price in it's Hollywood home. As a 50/50 hybrid of indica and sativa, $100 OG does a great job offering pain relief with an alert, cerebral high.</p>\",\n",
       "       nan], dtype=object)"
      ]
     },
     "execution_count": 307,
     "metadata": {},
     "output_type": "execute_result"
    }
   ],
   "source": [
    "data.description.unique()\n"
   ]
  },
  {
   "cell_type": "code",
   "execution_count": 308,
   "metadata": {},
   "outputs": [
    {
     "name": "stdout",
     "output_type": "stream",
     "text": [
      "[ 0. nan] [    10      0     20 100000      3      4     30  10000      7  80000\n",
      "     13     14     17     11     40     78      5     48     88      6\n",
      "     53 180000  60000  50000  90000 110000 130000 140000 190000  70000\n",
      " 120000 150000] [ 0. nan] [ 0. nan] [ 0. nan] [ 0. nan] [ 0. nan] [ 0. nan] [ 0. nan] [ 0. nan]\n"
     ]
    },
    {
     "data": {
      "text/plain": [
       "[None]"
      ]
     },
     "execution_count": 308,
     "metadata": {},
     "output_type": "execute_result"
    }
   ],
   "source": [
    "[print(data.cbgv.unique(),\n",
    "      data.cbn.unique(),\n",
    "      data.cbg.unique(),\n",
    "      data.cbgm.unique(),\n",
    "      data.cbc.unique(),\n",
    "      data.cbcv.unique(),\n",
    "      data.cbv.unique(),\n",
    "      data.cbe.unique(),\n",
    "      data.cbt.unique(),\n",
    "      data.cbl.unique())]\n",
    "    "
   ]
  },
  {
   "cell_type": "code",
   "execution_count": 309,
   "metadata": {},
   "outputs": [],
   "source": [
    "data = data.drop(['image','crosses','breeder','terpenes','slug','location','status','sort','description',  'thca', 'thcv', 'cbda', 'cbdv', 'cbn', 'cbg', 'cbgm', 'cbgv', 'cbc', 'cbcv', 'cbv', 'cbe', 'cbt', 'cbl'], axis = 1)"
   ]
  },
  {
   "cell_type": "code",
   "execution_count": 310,
   "metadata": {},
   "outputs": [],
   "source": [
    "data.dropna(subset=['ailment'], inplace=True)"
   ]
  },
  {
   "cell_type": "code",
   "execution_count": 311,
   "metadata": {},
   "outputs": [],
   "source": [
    "data.dropna(subset=['flavor'], inplace=True)"
   ]
  },
  {
   "cell_type": "code",
   "execution_count": 312,
   "metadata": {},
   "outputs": [
    {
     "data": {
      "text/html": [
       "<div>\n",
       "<style scoped>\n",
       "    .dataframe tbody tr th:only-of-type {\n",
       "        vertical-align: middle;\n",
       "    }\n",
       "\n",
       "    .dataframe tbody tr th {\n",
       "        vertical-align: top;\n",
       "    }\n",
       "\n",
       "    .dataframe thead th {\n",
       "        text-align: right;\n",
       "    }\n",
       "</style>\n",
       "<table border=\"1\" class=\"dataframe\">\n",
       "  <thead>\n",
       "    <tr style=\"text-align: right;\">\n",
       "      <th></th>\n",
       "      <th>id</th>\n",
       "      <th>name</th>\n",
       "      <th>type</th>\n",
       "      <th>effects</th>\n",
       "      <th>ailment</th>\n",
       "      <th>flavor</th>\n",
       "      <th>thc</th>\n",
       "      <th>cbd</th>\n",
       "    </tr>\n",
       "  </thead>\n",
       "  <tbody>\n",
       "    <tr>\n",
       "      <th>0</th>\n",
       "      <td>1</td>\n",
       "      <td>100 OG</td>\n",
       "      <td>Hybrid</td>\n",
       "      <td>Focused</td>\n",
       "      <td>Depression</td>\n",
       "      <td>Citrus</td>\n",
       "      <td>127</td>\n",
       "      <td>16</td>\n",
       "    </tr>\n",
       "    <tr>\n",
       "      <th>2</th>\n",
       "      <td>3</td>\n",
       "      <td>A-10</td>\n",
       "      <td>Indica</td>\n",
       "      <td>Relaxed, Happy, Uplifted, Energetic, Sleepy, D...</td>\n",
       "      <td>Stress, Insomnia, Pain, Muscle Spasms, Depression</td>\n",
       "      <td>Citrus, Sweet</td>\n",
       "      <td>0</td>\n",
       "      <td>0</td>\n",
       "    </tr>\n",
       "    <tr>\n",
       "      <th>3</th>\n",
       "      <td>4</td>\n",
       "      <td>Acapulco Gold</td>\n",
       "      <td>Sativa</td>\n",
       "      <td>Happy, Euphoric, Uplifted, Relaxed, Creative, ...</td>\n",
       "      <td>Depression, Stress, Pain, Lack of Appetite</td>\n",
       "      <td>Earthy, Citrus</td>\n",
       "      <td>0</td>\n",
       "      <td>0</td>\n",
       "    </tr>\n",
       "    <tr>\n",
       "      <th>4</th>\n",
       "      <td>5</td>\n",
       "      <td>Afghani Bullrider</td>\n",
       "      <td>Hybrid</td>\n",
       "      <td>Uplifted, Relaxed, Happy, Euphoric, Dry Mouth,...</td>\n",
       "      <td>Stress, Depression, Insomnia, Pain</td>\n",
       "      <td>Sweet, Pine, Earthy</td>\n",
       "      <td>127</td>\n",
       "      <td>0</td>\n",
       "    </tr>\n",
       "    <tr>\n",
       "      <th>5</th>\n",
       "      <td>6</td>\n",
       "      <td>Afghan Big Bud</td>\n",
       "      <td>Indica</td>\n",
       "      <td>Euphoric, Happy, Talkative, Relaxed, Sleepy, D...</td>\n",
       "      <td>Stress, Pain, Nausea, Insomnia, Depression</td>\n",
       "      <td>Lemon, Lavender</td>\n",
       "      <td>0</td>\n",
       "      <td>0</td>\n",
       "    </tr>\n",
       "    <tr>\n",
       "      <th>...</th>\n",
       "      <td>...</td>\n",
       "      <td>...</td>\n",
       "      <td>...</td>\n",
       "      <td>...</td>\n",
       "      <td>...</td>\n",
       "      <td>...</td>\n",
       "      <td>...</td>\n",
       "      <td>...</td>\n",
       "    </tr>\n",
       "    <tr>\n",
       "      <th>2173</th>\n",
       "      <td>2174</td>\n",
       "      <td>X-Wing</td>\n",
       "      <td>Indica</td>\n",
       "      <td>Happy, Sleepy, Relaxed, Creative, Hungry, Dry ...</td>\n",
       "      <td>Stress, Depression, Insomnia, Pain, Lack of Ap...</td>\n",
       "      <td>Earthy, Sweet</td>\n",
       "      <td>0</td>\n",
       "      <td>0</td>\n",
       "    </tr>\n",
       "    <tr>\n",
       "      <th>2174</th>\n",
       "      <td>2175</td>\n",
       "      <td>XXX 420</td>\n",
       "      <td>Indica</td>\n",
       "      <td>Relaxed, Talkative, Happy, Uplifted, Energetic...</td>\n",
       "      <td>Depression, Stress, Insomnia, Lack of Appetite</td>\n",
       "      <td>Sweet, Berry, Blueberry</td>\n",
       "      <td>0</td>\n",
       "      <td>0</td>\n",
       "    </tr>\n",
       "    <tr>\n",
       "      <th>2175</th>\n",
       "      <td>2176</td>\n",
       "      <td>XXX OG</td>\n",
       "      <td>Indica</td>\n",
       "      <td>Sleepy, Relaxed, Happy, Euphoric, Uplifted, Dr...</td>\n",
       "      <td>Stress, Pain, Insomnia, Depression, Lack of Ap...</td>\n",
       "      <td>Earthy, Pine</td>\n",
       "      <td>0</td>\n",
       "      <td>0</td>\n",
       "    </tr>\n",
       "    <tr>\n",
       "      <th>2176</th>\n",
       "      <td>2177</td>\n",
       "      <td>Zkittlez</td>\n",
       "      <td>Indica</td>\n",
       "      <td>Relaxed, Happy, Euphoric, Uplifted, Creative, ...</td>\n",
       "      <td>Stress, Depression, Pain, Muscle Spasms</td>\n",
       "      <td>Sweet, Berry, Citrus</td>\n",
       "      <td>0</td>\n",
       "      <td>0</td>\n",
       "    </tr>\n",
       "    <tr>\n",
       "      <th>2177</th>\n",
       "      <td>2178</td>\n",
       "      <td>Zoom Pie</td>\n",
       "      <td>Indica</td>\n",
       "      <td>Hungry, Uplifted, Relaxed, Happy</td>\n",
       "      <td>Muscle Spasms, Pain, Insomnia, Lack of Appetite</td>\n",
       "      <td>Berry, Earthy</td>\n",
       "      <td>0</td>\n",
       "      <td>0</td>\n",
       "    </tr>\n",
       "  </tbody>\n",
       "</table>\n",
       "<p>942 rows × 8 columns</p>\n",
       "</div>"
      ],
      "text/plain": [
       "        id               name    type  \\\n",
       "0        1             100 OG  Hybrid   \n",
       "2        3               A-10  Indica   \n",
       "3        4      Acapulco Gold  Sativa   \n",
       "4        5  Afghani Bullrider  Hybrid   \n",
       "5        6     Afghan Big Bud  Indica   \n",
       "...    ...                ...     ...   \n",
       "2173  2174             X-Wing  Indica   \n",
       "2174  2175            XXX 420  Indica   \n",
       "2175  2176             XXX OG  Indica   \n",
       "2176  2177           Zkittlez  Indica   \n",
       "2177  2178           Zoom Pie  Indica   \n",
       "\n",
       "                                                effects  \\\n",
       "0                                               Focused   \n",
       "2     Relaxed, Happy, Uplifted, Energetic, Sleepy, D...   \n",
       "3     Happy, Euphoric, Uplifted, Relaxed, Creative, ...   \n",
       "4     Uplifted, Relaxed, Happy, Euphoric, Dry Mouth,...   \n",
       "5     Euphoric, Happy, Talkative, Relaxed, Sleepy, D...   \n",
       "...                                                 ...   \n",
       "2173  Happy, Sleepy, Relaxed, Creative, Hungry, Dry ...   \n",
       "2174  Relaxed, Talkative, Happy, Uplifted, Energetic...   \n",
       "2175  Sleepy, Relaxed, Happy, Euphoric, Uplifted, Dr...   \n",
       "2176  Relaxed, Happy, Euphoric, Uplifted, Creative, ...   \n",
       "2177                   Hungry, Uplifted, Relaxed, Happy   \n",
       "\n",
       "                                                ailment  \\\n",
       "0                                            Depression   \n",
       "2     Stress, Insomnia, Pain, Muscle Spasms, Depression   \n",
       "3            Depression, Stress, Pain, Lack of Appetite   \n",
       "4                    Stress, Depression, Insomnia, Pain   \n",
       "5            Stress, Pain, Nausea, Insomnia, Depression   \n",
       "...                                                 ...   \n",
       "2173  Stress, Depression, Insomnia, Pain, Lack of Ap...   \n",
       "2174     Depression, Stress, Insomnia, Lack of Appetite   \n",
       "2175  Stress, Pain, Insomnia, Depression, Lack of Ap...   \n",
       "2176            Stress, Depression, Pain, Muscle Spasms   \n",
       "2177    Muscle Spasms, Pain, Insomnia, Lack of Appetite   \n",
       "\n",
       "                       flavor  thc  cbd  \n",
       "0                      Citrus  127   16  \n",
       "2               Citrus, Sweet    0    0  \n",
       "3              Earthy, Citrus    0    0  \n",
       "4         Sweet, Pine, Earthy  127    0  \n",
       "5             Lemon, Lavender    0    0  \n",
       "...                       ...  ...  ...  \n",
       "2173            Earthy, Sweet    0    0  \n",
       "2174  Sweet, Berry, Blueberry    0    0  \n",
       "2175             Earthy, Pine    0    0  \n",
       "2176     Sweet, Berry, Citrus    0    0  \n",
       "2177            Berry, Earthy    0    0  \n",
       "\n",
       "[942 rows x 8 columns]"
      ]
     },
     "execution_count": 312,
     "metadata": {},
     "output_type": "execute_result"
    }
   ],
   "source": [
    "data\n"
   ]
  },
  {
   "cell_type": "code",
   "execution_count": 313,
   "metadata": {},
   "outputs": [
    {
     "data": {
      "text/plain": [
       "id         0\n",
       "name       0\n",
       "type       0\n",
       "effects    0\n",
       "ailment    0\n",
       "flavor     0\n",
       "thc        0\n",
       "cbd        0\n",
       "dtype: int64"
      ]
     },
     "execution_count": 313,
     "metadata": {},
     "output_type": "execute_result"
    }
   ],
   "source": [
    "data.isnull().sum()"
   ]
  },
  {
   "cell_type": "code",
   "execution_count": 314,
   "metadata": {},
   "outputs": [],
   "source": [
    "data.replace(0,np.nan, inplace=True)"
   ]
  },
  {
   "cell_type": "code",
   "execution_count": 315,
   "metadata": {},
   "outputs": [
    {
     "name": "stdout",
     "output_type": "stream",
     "text": [
      "<class 'pandas.core.frame.DataFrame'>\n",
      "Int64Index: 942 entries, 0 to 2177\n",
      "Data columns (total 8 columns):\n",
      " #   Column   Non-Null Count  Dtype  \n",
      "---  ------   --------------  -----  \n",
      " 0   id       942 non-null    int64  \n",
      " 1   name     942 non-null    object \n",
      " 2   type     942 non-null    object \n",
      " 3   effects  942 non-null    object \n",
      " 4   ailment  942 non-null    object \n",
      " 5   flavor   942 non-null    object \n",
      " 6   thc      145 non-null    float64\n",
      " 7   cbd      15 non-null     float64\n",
      "dtypes: float64(2), int64(1), object(5)\n",
      "memory usage: 66.2+ KB\n"
     ]
    }
   ],
   "source": [
    "data.info()"
   ]
  },
  {
   "cell_type": "code",
   "execution_count": null,
   "metadata": {},
   "outputs": [],
   "source": []
  },
  {
   "cell_type": "code",
   "execution_count": 316,
   "metadata": {},
   "outputs": [
    {
     "data": {
      "text/plain": [
       "array([ 127.,   nan, 1500., 1600., 1300., 1800., 1900., 1700.,  600.,\n",
       "       1100., 1000., 1200.,  116., 2100., 1400.,  800., 2200.])"
      ]
     },
     "execution_count": 316,
     "metadata": {},
     "output_type": "execute_result"
    }
   ],
   "source": [
    "data.thc.unique()"
   ]
  },
  {
   "cell_type": "code",
   "execution_count": 317,
   "metadata": {},
   "outputs": [
    {
     "data": {
      "text/plain": [
       "array([  16.,   nan,   20.,   40., 1000.,   13.,   15.,   10.,    5.,\n",
       "         30.,   80.,    6.])"
      ]
     },
     "execution_count": 317,
     "metadata": {},
     "output_type": "execute_result"
    }
   ],
   "source": [
    "data.cbd.unique()"
   ]
  },
  {
   "cell_type": "code",
   "execution_count": 321,
   "metadata": {},
   "outputs": [
    {
     "data": {
      "text/plain": [
       "<pandas.core.groupby.generic.DataFrameGroupBy object at 0x7f59170e2080>"
      ]
     },
     "execution_count": 321,
     "metadata": {},
     "output_type": "execute_result"
    }
   ],
   "source": [
    "data.groupby(data.type)"
   ]
  },
  {
   "cell_type": "code",
   "execution_count": 332,
   "metadata": {},
   "outputs": [
    {
     "name": "stdout",
     "output_type": "stream",
     "text": [
      "        id               name    type  \\\n",
      "0        1             100 OG  Hybrid   \n",
      "4        5  Afghani Bullrider  Hybrid   \n",
      "19      20              Aloha  Hybrid   \n",
      "23      24       Amnesia Haze  Hybrid   \n",
      "34      35     BC Sweet Tooth  Hybrid   \n",
      "...    ...                ...     ...   \n",
      "2164  2165   White Kryptonite  Hybrid   \n",
      "2165  2166         White Kush  Hybrid   \n",
      "2166  2167           White OG  Hybrid   \n",
      "2168  2169     Whitewalker OG  Hybrid   \n",
      "2171  2172         Woody Kush  Hybrid   \n",
      "\n",
      "                                                effects  \\\n",
      "0                                               Focused   \n",
      "4     Uplifted, Relaxed, Happy, Euphoric, Dry Mouth,...   \n",
      "19    Energetic, Uplifted, Happy, Creative, Focused,...   \n",
      "23    Happy, Uplifted, Euphoric, Energetic, Creative...   \n",
      "34    Uplifted, Happy, Relaxed, Sleepy, Euphoric, Dr...   \n",
      "...                                                 ...   \n",
      "2164      Relaxed, Happy, Euphoric, Uplifted, Dry Mouth   \n",
      "2165  Sleepy, Relaxed, Hungry, Horny, Happy, Dry Mou...   \n",
      "2166  Relaxed, Euphoric, Happy, Sleepy, Uplifted, Dr...   \n",
      "2168  Relaxed, Happy, Tingly, Euphoric, Sleepy, Para...   \n",
      "2171  Relaxed, Happy, Euphoric, Sleepy, Hungry, Dry ...   \n",
      "\n",
      "                                                ailment  \\\n",
      "0                                            Depression   \n",
      "4                    Stress, Depression, Insomnia, Pain   \n",
      "19                             Depression, Stress, Pain   \n",
      "23                             Stress, Depression, Pain   \n",
      "34           Stress, Insomnia, Depression, Nausea, Pain   \n",
      "...                                                 ...   \n",
      "2164                 Stress, Depression, Insomnia, Pain   \n",
      "2165  Insomnia, Pain, Stress, Depression, Lack of Ap...   \n",
      "2166         Stress, Pain, Insomnia, Depression, Nausea   \n",
      "2168  Stress, Pain, Lack of Appetite, Nausea, Depres...   \n",
      "2171  Insomnia, Stress, Depression, Pain, Lack of Ap...   \n",
      "\n",
      "                     flavor     thc   cbd  \n",
      "0                    Citrus     1.0  16.0  \n",
      "4       Sweet, Pine, Earthy     5.0   NaN  \n",
      "19            Sweet, Citrus    20.0   NaN  \n",
      "23    Citrus, Lemon, Earthy    24.0   NaN  \n",
      "34             Sweet, Honey    35.0   NaN  \n",
      "...                     ...     ...   ...  \n",
      "2164           Berry, Sweet  2165.0   NaN  \n",
      "2165           Berry, Sweet  2166.0   NaN  \n",
      "2166           Earthy, Pine  2167.0   NaN  \n",
      "2168          Earthy, Sweet  2169.0   NaN  \n",
      "2171           Pine, Earthy  2172.0   NaN  \n",
      "\n",
      "[508 rows x 8 columns] \n",
      "\n",
      "\n",
      "        id            name    type  \\\n",
      "2        3            A-10  Indica   \n",
      "5        6  Afghan Big Bud  Indica   \n",
      "8        9         Afghani  Indica   \n",
      "10      11        Afghooey  Indica   \n",
      "11      12           Afgoo  Indica   \n",
      "...    ...             ...     ...   \n",
      "2173  2174          X-Wing  Indica   \n",
      "2174  2175         XXX 420  Indica   \n",
      "2175  2176          XXX OG  Indica   \n",
      "2176  2177        Zkittlez  Indica   \n",
      "2177  2178        Zoom Pie  Indica   \n",
      "\n",
      "                                                effects  \\\n",
      "2     Relaxed, Happy, Uplifted, Energetic, Sleepy, D...   \n",
      "5     Euphoric, Happy, Talkative, Relaxed, Sleepy, D...   \n",
      "8     Relaxed, Sleepy, Euphoric, Happy, Uplifted, Dr...   \n",
      "10    Uplifted, Sleepy, Euphoric, Relaxed, Talkative...   \n",
      "11    Relaxed, Sleepy, Happy, Euphoric, Hungry, Dry ...   \n",
      "...                                                 ...   \n",
      "2173  Happy, Sleepy, Relaxed, Creative, Hungry, Dry ...   \n",
      "2174  Relaxed, Talkative, Happy, Uplifted, Energetic...   \n",
      "2175  Sleepy, Relaxed, Happy, Euphoric, Uplifted, Dr...   \n",
      "2176  Relaxed, Happy, Euphoric, Uplifted, Creative, ...   \n",
      "2177                   Hungry, Uplifted, Relaxed, Happy   \n",
      "\n",
      "                                                ailment  \\\n",
      "2     Stress, Insomnia, Pain, Muscle Spasms, Depression   \n",
      "5            Stress, Pain, Nausea, Insomnia, Depression   \n",
      "8     Stress, Insomnia, Pain, Lack of Appetite, Depr...   \n",
      "10    Pain, Stress, Insomnia, Depression, Muscle Spasms   \n",
      "11    Stress, Pain, Insomnia, Lack of Appetite, Musc...   \n",
      "...                                                 ...   \n",
      "2173  Stress, Depression, Insomnia, Pain, Lack of Ap...   \n",
      "2174     Depression, Stress, Insomnia, Lack of Appetite   \n",
      "2175  Stress, Pain, Insomnia, Depression, Lack of Ap...   \n",
      "2176            Stress, Depression, Pain, Muscle Spasms   \n",
      "2177    Muscle Spasms, Pain, Insomnia, Lack of Appetite   \n",
      "\n",
      "                       flavor     thc  cbd  \n",
      "2               Citrus, Sweet     3.0  NaN  \n",
      "5             Lemon, Lavender     6.0  NaN  \n",
      "8         Earthy, Sweet, Pine     9.0  NaN  \n",
      "10              Earthy, Sweet    11.0  NaN  \n",
      "11       Pine, Earthy, Citrus    12.0  NaN  \n",
      "...                       ...     ...  ...  \n",
      "2173            Earthy, Sweet  2174.0  NaN  \n",
      "2174  Sweet, Berry, Blueberry  2175.0  NaN  \n",
      "2175             Earthy, Pine  2176.0  NaN  \n",
      "2176     Sweet, Berry, Citrus  2177.0  NaN  \n",
      "2177            Berry, Earthy  2178.0  NaN  \n",
      "\n",
      "[277 rows x 8 columns] \n",
      "\n",
      "\n",
      "        id                    name    type  \\\n",
      "3        4           Acapulco Gold  Sativa   \n",
      "17      18    Alaskan Thunder Fuck  Sativa   \n",
      "99     100               Chocolope  Sativa   \n",
      "119    120           Durban Poison  Sativa   \n",
      "123    124  East Coast Sour Diesel  Sativa   \n",
      "...    ...                     ...     ...   \n",
      "1692  1693           White Buffalo  Sativa   \n",
      "1693  1694            White Durban  Sativa   \n",
      "1699  1700                  Xanadu  Sativa   \n",
      "1702  1703          Zellyâ€™s Gift  Sativa   \n",
      "1703  1704               Zeta Sage  Sativa   \n",
      "\n",
      "                                                effects  \\\n",
      "3     Happy, Euphoric, Uplifted, Relaxed, Creative, ...   \n",
      "17    Happy, Euphoric, Uplifted, Energetic, Relaxed,...   \n",
      "99    Happy, Energetic, Uplifted, Euphoric, Creative...   \n",
      "119   Uplifted, Happy, Energetic, Focused, Euphoric,...   \n",
      "123   Happy, Focused, Energetic, Uplifted, Euphoric,...   \n",
      "...                                                 ...   \n",
      "1692  Happy, Uplifted, Euphoric, Relaxed, Energetic,...   \n",
      "1693  Energetic, Focused, Creative, Uplifted, Euphor...   \n",
      "1699     Focused, Happy, Energetic, Talkative, Uplifted   \n",
      "1702       Happy, Horny, Talkative, Uplifted, Energetic   \n",
      "1703  Happy, Relaxed, Focused, Euphoric, Talkative, ...   \n",
      "\n",
      "                                                ailment  \\\n",
      "3            Depression, Stress, Pain, Lack of Appetite   \n",
      "17           Stress, Depression, Lack of Appetite, Pain   \n",
      "99           Stress, Depression, Pain, Lack of Appetite   \n",
      "119                    Depression, Stress, Pain, Nausea   \n",
      "123   Muscle Spasms, Stress, Pain, Depression, Infla...   \n",
      "...                                                 ...   \n",
      "1692                           Stress, Depression, Pain   \n",
      "1693                           Stress, Depression, Pain   \n",
      "1699                   Depression, Nausea, Pain, Stress   \n",
      "1702                                 Depression, Stress   \n",
      "1703                           Stress, Nausea, Seizures   \n",
      "\n",
      "                     flavor     thc  cbd  \n",
      "3            Earthy, Citrus     4.0  NaN  \n",
      "17             Earthy, Pine    18.0  NaN  \n",
      "99    Earthy, Coffee, Sweet   100.0  NaN  \n",
      "119     Earthy, Sweet, Pine   120.0  NaN  \n",
      "123           Citrus, Lemon   124.0  NaN  \n",
      "...                     ...     ...  ...  \n",
      "1692           Sweet, Berry  1693.0  NaN  \n",
      "1693                 Earthy  1694.0  NaN  \n",
      "1699          Pepper, Sweet  1700.0  NaN  \n",
      "1702    Sweet, Citrus, Lime  1703.0  NaN  \n",
      "1703                 Earthy  1704.0  NaN  \n",
      "\n",
      "[157 rows x 8 columns] \n",
      "\n",
      "\n"
     ]
    }
   ],
   "source": [
    "grouped_df = data.groupby(data.type)\n",
    "\n",
    "for key, item in grouped_df:\n",
    "    print(grouped_df.get_group(key), \"\\n\\n\")"
   ]
  },
  {
   "cell_type": "code",
   "execution_count": 327,
   "metadata": {},
   "outputs": [
    {
     "ename": "TypeError",
     "evalue": "incompatible index of inserted column with frame index",
     "output_type": "error",
     "traceback": [
      "\u001b[0;31m---------------------------------------------------------------------------\u001b[0m",
      "\u001b[0;31mValueError\u001b[0m                                Traceback (most recent call last)",
      "\u001b[0;32m~/.local/lib/python3.6/site-packages/pandas/core/frame.py\u001b[0m in \u001b[0;36mreindexer\u001b[0;34m(value)\u001b[0m\n\u001b[1;32m   3598\u001b[0m                 \u001b[0;32mtry\u001b[0m\u001b[0;34m:\u001b[0m\u001b[0;34m\u001b[0m\u001b[0;34m\u001b[0m\u001b[0m\n\u001b[0;32m-> 3599\u001b[0;31m                     \u001b[0mvalue\u001b[0m \u001b[0;34m=\u001b[0m \u001b[0mvalue\u001b[0m\u001b[0;34m.\u001b[0m\u001b[0mreindex\u001b[0m\u001b[0;34m(\u001b[0m\u001b[0mself\u001b[0m\u001b[0;34m.\u001b[0m\u001b[0mindex\u001b[0m\u001b[0;34m)\u001b[0m\u001b[0;34m.\u001b[0m\u001b[0m_values\u001b[0m\u001b[0;34m\u001b[0m\u001b[0;34m\u001b[0m\u001b[0m\n\u001b[0m\u001b[1;32m   3600\u001b[0m                 \u001b[0;32mexcept\u001b[0m \u001b[0mValueError\u001b[0m \u001b[0;32mas\u001b[0m \u001b[0merr\u001b[0m\u001b[0;34m:\u001b[0m\u001b[0;34m\u001b[0m\u001b[0;34m\u001b[0m\u001b[0m\n",
      "\u001b[0;32m~/.local/lib/python3.6/site-packages/pandas/util/_decorators.py\u001b[0m in \u001b[0;36mwrapper\u001b[0;34m(*args, **kwargs)\u001b[0m\n\u001b[1;32m    226\u001b[0m         \u001b[0;32mdef\u001b[0m \u001b[0mwrapper\u001b[0m\u001b[0;34m(\u001b[0m\u001b[0;34m*\u001b[0m\u001b[0margs\u001b[0m\u001b[0;34m,\u001b[0m \u001b[0;34m**\u001b[0m\u001b[0mkwargs\u001b[0m\u001b[0;34m)\u001b[0m \u001b[0;34m->\u001b[0m \u001b[0mCallable\u001b[0m\u001b[0;34m[\u001b[0m\u001b[0;34m...\u001b[0m\u001b[0;34m,\u001b[0m \u001b[0mAny\u001b[0m\u001b[0;34m]\u001b[0m\u001b[0;34m:\u001b[0m\u001b[0;34m\u001b[0m\u001b[0;34m\u001b[0m\u001b[0m\n\u001b[0;32m--> 227\u001b[0;31m             \u001b[0;32mreturn\u001b[0m \u001b[0mfunc\u001b[0m\u001b[0;34m(\u001b[0m\u001b[0;34m*\u001b[0m\u001b[0margs\u001b[0m\u001b[0;34m,\u001b[0m \u001b[0;34m**\u001b[0m\u001b[0mkwargs\u001b[0m\u001b[0;34m)\u001b[0m\u001b[0;34m\u001b[0m\u001b[0;34m\u001b[0m\u001b[0m\n\u001b[0m\u001b[1;32m    228\u001b[0m \u001b[0;34m\u001b[0m\u001b[0m\n",
      "\u001b[0;32m~/.local/lib/python3.6/site-packages/pandas/core/frame.py\u001b[0m in \u001b[0;36mreindex\u001b[0;34m(self, *args, **kwargs)\u001b[0m\n\u001b[1;32m   3855\u001b[0m         \u001b[0mkwargs\u001b[0m\u001b[0;34m.\u001b[0m\u001b[0mpop\u001b[0m\u001b[0;34m(\u001b[0m\u001b[0;34m\"labels\"\u001b[0m\u001b[0;34m,\u001b[0m \u001b[0;32mNone\u001b[0m\u001b[0;34m)\u001b[0m\u001b[0;34m\u001b[0m\u001b[0;34m\u001b[0m\u001b[0m\n\u001b[0;32m-> 3856\u001b[0;31m         \u001b[0;32mreturn\u001b[0m \u001b[0msuper\u001b[0m\u001b[0;34m(\u001b[0m\u001b[0;34m)\u001b[0m\u001b[0;34m.\u001b[0m\u001b[0mreindex\u001b[0m\u001b[0;34m(\u001b[0m\u001b[0;34m**\u001b[0m\u001b[0mkwargs\u001b[0m\u001b[0;34m)\u001b[0m\u001b[0;34m\u001b[0m\u001b[0;34m\u001b[0m\u001b[0m\n\u001b[0m\u001b[1;32m   3857\u001b[0m \u001b[0;34m\u001b[0m\u001b[0m\n",
      "\u001b[0;32m~/.local/lib/python3.6/site-packages/pandas/core/generic.py\u001b[0m in \u001b[0;36mreindex\u001b[0;34m(self, *args, **kwargs)\u001b[0m\n\u001b[1;32m   4543\u001b[0m         return self._reindex_axes(\n\u001b[0;32m-> 4544\u001b[0;31m             \u001b[0maxes\u001b[0m\u001b[0;34m,\u001b[0m \u001b[0mlevel\u001b[0m\u001b[0;34m,\u001b[0m \u001b[0mlimit\u001b[0m\u001b[0;34m,\u001b[0m \u001b[0mtolerance\u001b[0m\u001b[0;34m,\u001b[0m \u001b[0mmethod\u001b[0m\u001b[0;34m,\u001b[0m \u001b[0mfill_value\u001b[0m\u001b[0;34m,\u001b[0m \u001b[0mcopy\u001b[0m\u001b[0;34m\u001b[0m\u001b[0;34m\u001b[0m\u001b[0m\n\u001b[0m\u001b[1;32m   4545\u001b[0m         ).__finalize__(self)\n",
      "\u001b[0;32m~/.local/lib/python3.6/site-packages/pandas/core/frame.py\u001b[0m in \u001b[0;36m_reindex_axes\u001b[0;34m(self, axes, level, limit, tolerance, method, fill_value, copy)\u001b[0m\n\u001b[1;32m   3743\u001b[0m             frame = frame._reindex_index(\n\u001b[0;32m-> 3744\u001b[0;31m                 \u001b[0mindex\u001b[0m\u001b[0;34m,\u001b[0m \u001b[0mmethod\u001b[0m\u001b[0;34m,\u001b[0m \u001b[0mcopy\u001b[0m\u001b[0;34m,\u001b[0m \u001b[0mlevel\u001b[0m\u001b[0;34m,\u001b[0m \u001b[0mfill_value\u001b[0m\u001b[0;34m,\u001b[0m \u001b[0mlimit\u001b[0m\u001b[0;34m,\u001b[0m \u001b[0mtolerance\u001b[0m\u001b[0;34m\u001b[0m\u001b[0;34m\u001b[0m\u001b[0m\n\u001b[0m\u001b[1;32m   3745\u001b[0m             )\n",
      "\u001b[0;32m~/.local/lib/python3.6/site-packages/pandas/core/frame.py\u001b[0m in \u001b[0;36m_reindex_index\u001b[0;34m(self, new_index, method, copy, level, fill_value, limit, tolerance)\u001b[0m\n\u001b[1;32m   3759\u001b[0m         new_index, indexer = self.index.reindex(\n\u001b[0;32m-> 3760\u001b[0;31m             \u001b[0mnew_index\u001b[0m\u001b[0;34m,\u001b[0m \u001b[0mmethod\u001b[0m\u001b[0;34m=\u001b[0m\u001b[0mmethod\u001b[0m\u001b[0;34m,\u001b[0m \u001b[0mlevel\u001b[0m\u001b[0;34m=\u001b[0m\u001b[0mlevel\u001b[0m\u001b[0;34m,\u001b[0m \u001b[0mlimit\u001b[0m\u001b[0;34m=\u001b[0m\u001b[0mlimit\u001b[0m\u001b[0;34m,\u001b[0m \u001b[0mtolerance\u001b[0m\u001b[0;34m=\u001b[0m\u001b[0mtolerance\u001b[0m\u001b[0;34m\u001b[0m\u001b[0;34m\u001b[0m\u001b[0m\n\u001b[0m\u001b[1;32m   3761\u001b[0m         )\n",
      "\u001b[0;32m~/.local/lib/python3.6/site-packages/pandas/core/indexes/multi.py\u001b[0m in \u001b[0;36mreindex\u001b[0;34m(self, target, method, level, limit, tolerance)\u001b[0m\n\u001b[1;32m   2424\u001b[0m                 \u001b[0;31m# hopefully?\u001b[0m\u001b[0;34m\u001b[0m\u001b[0;34m\u001b[0m\u001b[0;34m\u001b[0m\u001b[0m\n\u001b[0;32m-> 2425\u001b[0;31m                 \u001b[0mtarget\u001b[0m \u001b[0;34m=\u001b[0m \u001b[0mMultiIndex\u001b[0m\u001b[0;34m.\u001b[0m\u001b[0mfrom_tuples\u001b[0m\u001b[0;34m(\u001b[0m\u001b[0mtarget\u001b[0m\u001b[0;34m)\u001b[0m\u001b[0;34m\u001b[0m\u001b[0;34m\u001b[0m\u001b[0m\n\u001b[0m\u001b[1;32m   2426\u001b[0m \u001b[0;34m\u001b[0m\u001b[0m\n",
      "\u001b[0;32m~/.local/lib/python3.6/site-packages/pandas/core/indexes/multi.py\u001b[0m in \u001b[0;36mfrom_tuples\u001b[0;34m(cls, tuples, sortorder, names)\u001b[0m\n\u001b[1;32m    488\u001b[0m \u001b[0;34m\u001b[0m\u001b[0m\n\u001b[0;32m--> 489\u001b[0;31m             \u001b[0marrays\u001b[0m \u001b[0;34m=\u001b[0m \u001b[0mlist\u001b[0m\u001b[0;34m(\u001b[0m\u001b[0mlib\u001b[0m\u001b[0;34m.\u001b[0m\u001b[0mtuples_to_object_array\u001b[0m\u001b[0;34m(\u001b[0m\u001b[0mtuples\u001b[0m\u001b[0;34m)\u001b[0m\u001b[0;34m.\u001b[0m\u001b[0mT\u001b[0m\u001b[0;34m)\u001b[0m\u001b[0;34m\u001b[0m\u001b[0;34m\u001b[0m\u001b[0m\n\u001b[0m\u001b[1;32m    490\u001b[0m         \u001b[0;32melif\u001b[0m \u001b[0misinstance\u001b[0m\u001b[0;34m(\u001b[0m\u001b[0mtuples\u001b[0m\u001b[0;34m,\u001b[0m \u001b[0mlist\u001b[0m\u001b[0;34m)\u001b[0m\u001b[0;34m:\u001b[0m\u001b[0;34m\u001b[0m\u001b[0;34m\u001b[0m\u001b[0m\n",
      "\u001b[0;32mpandas/_libs/lib.pyx\u001b[0m in \u001b[0;36mpandas._libs.lib.tuples_to_object_array\u001b[0;34m()\u001b[0m\n",
      "\u001b[0;31mValueError\u001b[0m: Buffer dtype mismatch, expected 'Python object' but got 'long'",
      "\nDuring handling of the above exception, another exception occurred:\n",
      "\u001b[0;31mTypeError\u001b[0m                                 Traceback (most recent call last)",
      "\u001b[0;32m<ipython-input-327-70dd328ac587>\u001b[0m in \u001b[0;36m<module>\u001b[0;34m\u001b[0m\n\u001b[0;32m----> 1\u001b[0;31m \u001b[0mdata\u001b[0m\u001b[0;34m[\u001b[0m\u001b[0;34m\"thc\"\u001b[0m\u001b[0;34m]\u001b[0m \u001b[0;34m=\u001b[0m \u001b[0mdata\u001b[0m\u001b[0;34m.\u001b[0m\u001b[0mgroupby\u001b[0m\u001b[0;34m(\u001b[0m\u001b[0;34m\"type\"\u001b[0m\u001b[0;34m)\u001b[0m\u001b[0;34m.\u001b[0m\u001b[0mapply\u001b[0m\u001b[0;34m(\u001b[0m\u001b[0;32mlambda\u001b[0m \u001b[0mx\u001b[0m\u001b[0;34m:\u001b[0m \u001b[0mx\u001b[0m\u001b[0;34m.\u001b[0m\u001b[0mfillna\u001b[0m\u001b[0;34m(\u001b[0m\u001b[0mx\u001b[0m\u001b[0;34m.\u001b[0m\u001b[0mmean\u001b[0m\u001b[0;34m(\u001b[0m\u001b[0;34m)\u001b[0m\u001b[0;34m)\u001b[0m\u001b[0;34m)\u001b[0m\u001b[0;34m\u001b[0m\u001b[0;34m\u001b[0m\u001b[0m\n\u001b[0m",
      "\u001b[0;32m~/.local/lib/python3.6/site-packages/pandas/core/frame.py\u001b[0m in \u001b[0;36m__setitem__\u001b[0;34m(self, key, value)\u001b[0m\n\u001b[1;32m   2936\u001b[0m         \u001b[0;32melse\u001b[0m\u001b[0;34m:\u001b[0m\u001b[0;34m\u001b[0m\u001b[0;34m\u001b[0m\u001b[0m\n\u001b[1;32m   2937\u001b[0m             \u001b[0;31m# set column\u001b[0m\u001b[0;34m\u001b[0m\u001b[0;34m\u001b[0m\u001b[0;34m\u001b[0m\u001b[0m\n\u001b[0;32m-> 2938\u001b[0;31m             \u001b[0mself\u001b[0m\u001b[0;34m.\u001b[0m\u001b[0m_set_item\u001b[0m\u001b[0;34m(\u001b[0m\u001b[0mkey\u001b[0m\u001b[0;34m,\u001b[0m \u001b[0mvalue\u001b[0m\u001b[0;34m)\u001b[0m\u001b[0;34m\u001b[0m\u001b[0;34m\u001b[0m\u001b[0m\n\u001b[0m\u001b[1;32m   2939\u001b[0m \u001b[0;34m\u001b[0m\u001b[0m\n\u001b[1;32m   2940\u001b[0m     \u001b[0;32mdef\u001b[0m \u001b[0m_setitem_slice\u001b[0m\u001b[0;34m(\u001b[0m\u001b[0mself\u001b[0m\u001b[0;34m,\u001b[0m \u001b[0mkey\u001b[0m\u001b[0;34m,\u001b[0m \u001b[0mvalue\u001b[0m\u001b[0;34m)\u001b[0m\u001b[0;34m:\u001b[0m\u001b[0;34m\u001b[0m\u001b[0;34m\u001b[0m\u001b[0m\n",
      "\u001b[0;32m~/.local/lib/python3.6/site-packages/pandas/core/frame.py\u001b[0m in \u001b[0;36m_set_item\u001b[0;34m(self, key, value)\u001b[0m\n\u001b[1;32m   2998\u001b[0m \u001b[0;34m\u001b[0m\u001b[0m\n\u001b[1;32m   2999\u001b[0m         \u001b[0mself\u001b[0m\u001b[0;34m.\u001b[0m\u001b[0m_ensure_valid_index\u001b[0m\u001b[0;34m(\u001b[0m\u001b[0mvalue\u001b[0m\u001b[0;34m)\u001b[0m\u001b[0;34m\u001b[0m\u001b[0;34m\u001b[0m\u001b[0m\n\u001b[0;32m-> 3000\u001b[0;31m         \u001b[0mvalue\u001b[0m \u001b[0;34m=\u001b[0m \u001b[0mself\u001b[0m\u001b[0;34m.\u001b[0m\u001b[0m_sanitize_column\u001b[0m\u001b[0;34m(\u001b[0m\u001b[0mkey\u001b[0m\u001b[0;34m,\u001b[0m \u001b[0mvalue\u001b[0m\u001b[0;34m)\u001b[0m\u001b[0;34m\u001b[0m\u001b[0;34m\u001b[0m\u001b[0m\n\u001b[0m\u001b[1;32m   3001\u001b[0m         \u001b[0mNDFrame\u001b[0m\u001b[0;34m.\u001b[0m\u001b[0m_set_item\u001b[0m\u001b[0;34m(\u001b[0m\u001b[0mself\u001b[0m\u001b[0;34m,\u001b[0m \u001b[0mkey\u001b[0m\u001b[0;34m,\u001b[0m \u001b[0mvalue\u001b[0m\u001b[0;34m)\u001b[0m\u001b[0;34m\u001b[0m\u001b[0;34m\u001b[0m\u001b[0m\n\u001b[1;32m   3002\u001b[0m \u001b[0;34m\u001b[0m\u001b[0m\n",
      "\u001b[0;32m~/.local/lib/python3.6/site-packages/pandas/core/frame.py\u001b[0m in \u001b[0;36m_sanitize_column\u001b[0;34m(self, key, value, broadcast)\u001b[0m\n\u001b[1;32m   3623\u001b[0m                         \u001b[0mvalue\u001b[0m \u001b[0;34m=\u001b[0m \u001b[0mvalue\u001b[0m\u001b[0;34m.\u001b[0m\u001b[0mreindex\u001b[0m\u001b[0;34m(\u001b[0m\u001b[0mcols\u001b[0m\u001b[0;34m,\u001b[0m \u001b[0maxis\u001b[0m\u001b[0;34m=\u001b[0m\u001b[0;36m1\u001b[0m\u001b[0;34m)\u001b[0m\u001b[0;34m\u001b[0m\u001b[0;34m\u001b[0m\u001b[0m\n\u001b[1;32m   3624\u001b[0m             \u001b[0;31m# now align rows\u001b[0m\u001b[0;34m\u001b[0m\u001b[0;34m\u001b[0m\u001b[0;34m\u001b[0m\u001b[0m\n\u001b[0;32m-> 3625\u001b[0;31m             \u001b[0mvalue\u001b[0m \u001b[0;34m=\u001b[0m \u001b[0mreindexer\u001b[0m\u001b[0;34m(\u001b[0m\u001b[0mvalue\u001b[0m\u001b[0;34m)\u001b[0m\u001b[0;34m.\u001b[0m\u001b[0mT\u001b[0m\u001b[0;34m\u001b[0m\u001b[0;34m\u001b[0m\u001b[0m\n\u001b[0m\u001b[1;32m   3626\u001b[0m \u001b[0;34m\u001b[0m\u001b[0m\n\u001b[1;32m   3627\u001b[0m         \u001b[0;32melif\u001b[0m \u001b[0misinstance\u001b[0m\u001b[0;34m(\u001b[0m\u001b[0mvalue\u001b[0m\u001b[0;34m,\u001b[0m \u001b[0mExtensionArray\u001b[0m\u001b[0;34m)\u001b[0m\u001b[0;34m:\u001b[0m\u001b[0;34m\u001b[0m\u001b[0;34m\u001b[0m\u001b[0m\n",
      "\u001b[0;32m~/.local/lib/python3.6/site-packages/pandas/core/frame.py\u001b[0m in \u001b[0;36mreindexer\u001b[0;34m(value)\u001b[0m\n\u001b[1;32m   3606\u001b[0m                     \u001b[0;31m# other\u001b[0m\u001b[0;34m\u001b[0m\u001b[0;34m\u001b[0m\u001b[0;34m\u001b[0m\u001b[0m\n\u001b[1;32m   3607\u001b[0m                     raise TypeError(\n\u001b[0;32m-> 3608\u001b[0;31m                         \u001b[0;34m\"incompatible index of inserted column with frame index\"\u001b[0m\u001b[0;34m\u001b[0m\u001b[0;34m\u001b[0m\u001b[0m\n\u001b[0m\u001b[1;32m   3609\u001b[0m                     )\n\u001b[1;32m   3610\u001b[0m             \u001b[0;32mreturn\u001b[0m \u001b[0mvalue\u001b[0m\u001b[0;34m\u001b[0m\u001b[0;34m\u001b[0m\u001b[0m\n",
      "\u001b[0;31mTypeError\u001b[0m: incompatible index of inserted column with frame index"
     ]
    }
   ],
   "source": [
    "data[\"thc\"] = data.groupby(\"type\").apply(lambda x: x.fillna(x.mean()))"
   ]
  },
  {
   "cell_type": "code",
   "execution_count": null,
   "metadata": {},
   "outputs": [],
   "source": []
  },
  {
   "cell_type": "code",
   "execution_count": null,
   "metadata": {},
   "outputs": [],
   "source": []
  },
  {
   "cell_type": "code",
   "execution_count": 283,
   "metadata": {},
   "outputs": [],
   "source": [
    "data[\"cbd\"] = data.groupby(\"type\").transform(lambda x: x.fillna(x.mean()))"
   ]
  },
  {
   "cell_type": "code",
   "execution_count": null,
   "metadata": {},
   "outputs": [],
   "source": []
  },
  {
   "cell_type": "code",
   "execution_count": 324,
   "metadata": {},
   "outputs": [
    {
     "data": {
      "text/plain": [
       "0          1.0\n",
       "2          3.0\n",
       "3          4.0\n",
       "4          5.0\n",
       "5          6.0\n",
       "         ...  \n",
       "2173    2174.0\n",
       "2174    2175.0\n",
       "2175    2176.0\n",
       "2176    2177.0\n",
       "2177    2178.0\n",
       "Name: thc, Length: 942, dtype: float64"
      ]
     },
     "execution_count": 324,
     "metadata": {},
     "output_type": "execute_result"
    }
   ],
   "source": [
    "data.thc"
   ]
  },
  {
   "cell_type": "code",
   "execution_count": null,
   "metadata": {},
   "outputs": [],
   "source": []
  },
  {
   "cell_type": "code",
   "execution_count": 248,
   "metadata": {},
   "outputs": [
    {
     "data": {
      "text/plain": [
       "(942, 8)"
      ]
     },
     "execution_count": 248,
     "metadata": {},
     "output_type": "execute_result"
    }
   ],
   "source": [
    "data.shape"
   ]
  },
  {
   "cell_type": "code",
   "execution_count": 249,
   "metadata": {},
   "outputs": [],
   "source": [
    "data['EFA'] = data['effects'] + ', ' + data['flavor']+ ', ' + data['ailment']"
   ]
  },
  {
   "cell_type": "code",
   "execution_count": 220,
   "metadata": {},
   "outputs": [
    {
     "data": {
      "text/plain": [
       "0                             Focused, Citrus, Depression\n",
       "2       Relaxed, Happy, Uplifted, Energetic, Sleepy, D...\n",
       "3       Happy, Euphoric, Uplifted, Relaxed, Creative, ...\n",
       "4       Uplifted, Relaxed, Happy, Euphoric, Dry Mouth,...\n",
       "5       Euphoric, Happy, Talkative, Relaxed, Sleepy, D...\n",
       "                              ...                        \n",
       "2173    Happy, Sleepy, Relaxed, Creative, Hungry, Dry ...\n",
       "2174    Relaxed, Talkative, Happy, Uplifted, Energetic...\n",
       "2175    Sleepy, Relaxed, Happy, Euphoric, Uplifted, Dr...\n",
       "2176    Relaxed, Happy, Euphoric, Uplifted, Creative, ...\n",
       "2177    Hungry, Uplifted, Relaxed, Happy, Berry, Earth...\n",
       "Name: EFA, Length: 942, dtype: object"
      ]
     },
     "execution_count": 220,
     "metadata": {},
     "output_type": "execute_result"
    }
   ],
   "source": [
    "data.EFA"
   ]
  },
  {
   "cell_type": "code",
   "execution_count": 231,
   "metadata": {},
   "outputs": [],
   "source": [
    "import string\n",
    "\n",
    "import spacy\n",
    "from spacy.lang.en.stop_words import STOP_WORDS\n",
    "from spacy.lang.en import English\n",
    "from spacy.tokenizer import Tokenizer\n",
    "\n",
    "from sklearn.feature_extraction.text import TfidfVectorizer\n",
    "from sklearn.neighbors import NearestNeighbors\n",
    "\n",
    "\n",
    "import re"
   ]
  },
  {
   "cell_type": "code",
   "execution_count": 227,
   "metadata": {},
   "outputs": [],
   "source": [
    "nlp=English()\n",
    "tokenizer = Tokenizer(nlp.vocab)"
   ]
  },
  {
   "cell_type": "code",
   "execution_count": 228,
   "metadata": {},
   "outputs": [],
   "source": [
    "tf = TfidfVectorizer(stop_words='english')"
   ]
  },
  {
   "cell_type": "code",
   "execution_count": 234,
   "metadata": {},
   "outputs": [],
   "source": [
    "tfidf=TfidfVectorizer(min_df=.15, tokenizer=tokenizer)"
   ]
  },
  {
   "cell_type": "code",
   "execution_count": 235,
   "metadata": {},
   "outputs": [
    {
     "ename": "ValueError",
     "evalue": "After pruning, no terms remain. Try a lower min_df or a higher max_df.",
     "output_type": "error",
     "traceback": [
      "\u001b[0;31m---------------------------------------------------------------------------\u001b[0m",
      "\u001b[0;31mValueError\u001b[0m                                Traceback (most recent call last)",
      "\u001b[0;32m<ipython-input-235-55f4f8d0a1cc>\u001b[0m in \u001b[0;36m<module>\u001b[0;34m\u001b[0m\n\u001b[0;32m----> 1\u001b[0;31m \u001b[0mtfidf_matrix\u001b[0m\u001b[0;34m=\u001b[0m\u001b[0mtfidf\u001b[0m\u001b[0;34m.\u001b[0m\u001b[0mfit_transform\u001b[0m\u001b[0;34m(\u001b[0m\u001b[0mdata\u001b[0m\u001b[0;34m[\u001b[0m\u001b[0;34m'EFA'\u001b[0m\u001b[0;34m]\u001b[0m\u001b[0;34m.\u001b[0m\u001b[0mvalues\u001b[0m\u001b[0;34m.\u001b[0m\u001b[0mastype\u001b[0m\u001b[0;34m(\u001b[0m\u001b[0;34m'U'\u001b[0m\u001b[0;34m)\u001b[0m\u001b[0;34m)\u001b[0m\u001b[0;34m\u001b[0m\u001b[0;34m\u001b[0m\u001b[0m\n\u001b[0m",
      "\u001b[0;32m~/.local/lib/python3.6/site-packages/sklearn/feature_extraction/text.py\u001b[0m in \u001b[0;36mfit_transform\u001b[0;34m(self, raw_documents, y)\u001b[0m\n\u001b[1;32m   1857\u001b[0m         \"\"\"\n\u001b[1;32m   1858\u001b[0m         \u001b[0mself\u001b[0m\u001b[0;34m.\u001b[0m\u001b[0m_check_params\u001b[0m\u001b[0;34m(\u001b[0m\u001b[0;34m)\u001b[0m\u001b[0;34m\u001b[0m\u001b[0;34m\u001b[0m\u001b[0m\n\u001b[0;32m-> 1859\u001b[0;31m         \u001b[0mX\u001b[0m \u001b[0;34m=\u001b[0m \u001b[0msuper\u001b[0m\u001b[0;34m(\u001b[0m\u001b[0;34m)\u001b[0m\u001b[0;34m.\u001b[0m\u001b[0mfit_transform\u001b[0m\u001b[0;34m(\u001b[0m\u001b[0mraw_documents\u001b[0m\u001b[0;34m)\u001b[0m\u001b[0;34m\u001b[0m\u001b[0;34m\u001b[0m\u001b[0m\n\u001b[0m\u001b[1;32m   1860\u001b[0m         \u001b[0mself\u001b[0m\u001b[0;34m.\u001b[0m\u001b[0m_tfidf\u001b[0m\u001b[0;34m.\u001b[0m\u001b[0mfit\u001b[0m\u001b[0;34m(\u001b[0m\u001b[0mX\u001b[0m\u001b[0;34m)\u001b[0m\u001b[0;34m\u001b[0m\u001b[0;34m\u001b[0m\u001b[0m\n\u001b[1;32m   1861\u001b[0m         \u001b[0;31m# X is already a transformed view of raw_documents so\u001b[0m\u001b[0;34m\u001b[0m\u001b[0;34m\u001b[0m\u001b[0;34m\u001b[0m\u001b[0m\n",
      "\u001b[0;32m~/.local/lib/python3.6/site-packages/sklearn/feature_extraction/text.py\u001b[0m in \u001b[0;36mfit_transform\u001b[0;34m(self, raw_documents, y)\u001b[0m\n\u001b[1;32m   1239\u001b[0m                                                        \u001b[0mmax_doc_count\u001b[0m\u001b[0;34m,\u001b[0m\u001b[0;34m\u001b[0m\u001b[0;34m\u001b[0m\u001b[0m\n\u001b[1;32m   1240\u001b[0m                                                        \u001b[0mmin_doc_count\u001b[0m\u001b[0;34m,\u001b[0m\u001b[0;34m\u001b[0m\u001b[0;34m\u001b[0m\u001b[0m\n\u001b[0;32m-> 1241\u001b[0;31m                                                        max_features)\n\u001b[0m\u001b[1;32m   1242\u001b[0m \u001b[0;34m\u001b[0m\u001b[0m\n\u001b[1;32m   1243\u001b[0m             \u001b[0mself\u001b[0m\u001b[0;34m.\u001b[0m\u001b[0mvocabulary_\u001b[0m \u001b[0;34m=\u001b[0m \u001b[0mvocabulary\u001b[0m\u001b[0;34m\u001b[0m\u001b[0;34m\u001b[0m\u001b[0m\n",
      "\u001b[0;32m~/.local/lib/python3.6/site-packages/sklearn/feature_extraction/text.py\u001b[0m in \u001b[0;36m_limit_features\u001b[0;34m(self, X, vocabulary, high, low, limit)\u001b[0m\n\u001b[1;32m   1107\u001b[0m         \u001b[0mkept_indices\u001b[0m \u001b[0;34m=\u001b[0m \u001b[0mnp\u001b[0m\u001b[0;34m.\u001b[0m\u001b[0mwhere\u001b[0m\u001b[0;34m(\u001b[0m\u001b[0mmask\u001b[0m\u001b[0;34m)\u001b[0m\u001b[0;34m[\u001b[0m\u001b[0;36m0\u001b[0m\u001b[0;34m]\u001b[0m\u001b[0;34m\u001b[0m\u001b[0;34m\u001b[0m\u001b[0m\n\u001b[1;32m   1108\u001b[0m         \u001b[0;32mif\u001b[0m \u001b[0mlen\u001b[0m\u001b[0;34m(\u001b[0m\u001b[0mkept_indices\u001b[0m\u001b[0;34m)\u001b[0m \u001b[0;34m==\u001b[0m \u001b[0;36m0\u001b[0m\u001b[0;34m:\u001b[0m\u001b[0;34m\u001b[0m\u001b[0;34m\u001b[0m\u001b[0m\n\u001b[0;32m-> 1109\u001b[0;31m             raise ValueError(\"After pruning, no terms remain. Try a lower\"\n\u001b[0m\u001b[1;32m   1110\u001b[0m                              \" min_df or a higher max_df.\")\n\u001b[1;32m   1111\u001b[0m         \u001b[0;32mreturn\u001b[0m \u001b[0mX\u001b[0m\u001b[0;34m[\u001b[0m\u001b[0;34m:\u001b[0m\u001b[0;34m,\u001b[0m \u001b[0mkept_indices\u001b[0m\u001b[0;34m]\u001b[0m\u001b[0;34m,\u001b[0m \u001b[0mremoved_terms\u001b[0m\u001b[0;34m\u001b[0m\u001b[0;34m\u001b[0m\u001b[0m\n",
      "\u001b[0;31mValueError\u001b[0m: After pruning, no terms remain. Try a lower min_df or a higher max_df."
     ]
    }
   ],
   "source": [
    "tfidf_matrix=tfidf.fit_transform(data['EFA'].values.astype('U'))"
   ]
  },
  {
   "cell_type": "code",
   "execution_count": null,
   "metadata": {},
   "outputs": [],
   "source": [
    "tfidf_matrix.shape"
   ]
  },
  {
   "cell_type": "code",
   "execution_count": null,
   "metadata": {},
   "outputs": [],
   "source": [
    "tfidf_matrix"
   ]
  },
  {
   "cell_type": "code",
   "execution_count": null,
   "metadata": {},
   "outputs": [],
   "source": []
  },
  {
   "cell_type": "code",
   "execution_count": null,
   "metadata": {},
   "outputs": [],
   "source": [
    "modelo = NearestNeighbors(n_neighbors=5, algorithm='ball_tree')\n",
    "modelo.fit(dtm)"
   ]
  },
  {
   "cell_type": "code",
   "execution_count": null,
   "metadata": {},
   "outputs": [],
   "source": []
  },
  {
   "cell_type": "code",
   "execution_count": 237,
   "metadata": {},
   "outputs": [
    {
     "name": "stdout",
     "output_type": "stream",
     "text": [
      "1.0.0\n"
     ]
    }
   ],
   "source": [
    "from pycaret.utils import version\n",
    "version()"
   ]
  },
  {
   "cell_type": "code",
   "execution_count": null,
   "metadata": {},
   "outputs": [],
   "source": []
  }
 ],
 "metadata": {
  "kernelspec": {
   "display_name": "Python 3",
   "language": "python",
   "name": "python3"
  },
  "language_info": {
   "codemirror_mode": {
    "name": "ipython",
    "version": 3
   },
   "file_extension": ".py",
   "mimetype": "text/x-python",
   "name": "python",
   "nbconvert_exporter": "python",
   "pygments_lexer": "ipython3",
   "version": "3.6.9"
  }
 },
 "nbformat": 4,
 "nbformat_minor": 4
}
