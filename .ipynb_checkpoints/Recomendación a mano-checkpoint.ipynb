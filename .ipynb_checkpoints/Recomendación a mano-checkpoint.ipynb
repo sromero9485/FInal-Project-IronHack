{
 "cells": [
  {
   "cell_type": "code",
   "execution_count": 1,
   "metadata": {},
   "outputs": [],
   "source": [
    "import spacy\n",
    "from spacy.tokenizer import Tokenizer\n",
    "from spacy.lang.en import English\n",
    "\n",
    "from sklearn.feature_extraction.text import TfidfVectorizer\n",
    "from sklearn.metrics.pairwise import linear_kernel\n",
    "from sklearn.metrics.pairwise import cosine_similarity\n"
   ]
  },
  {
   "cell_type": "code",
   "execution_count": 27,
   "metadata": {},
   "outputs": [
    {
     "name": "stdout",
     "output_type": "stream",
     "text": [
      "Defaulting to user installation because normal site-packages is not writeable\n",
      "Requirement already satisfied: plotly in /home/sromero/.local/lib/python3.6/site-packages (4.7.1)\n",
      "Requirement already satisfied: retrying>=1.3.3 in /home/sromero/.local/lib/python3.6/site-packages (from plotly) (1.3.3)\n",
      "Requirement already satisfied: six in /home/sromero/.local/lib/python3.6/site-packages (from plotly) (1.14.0)\n",
      "\u001b[33mWARNING: You are using pip version 20.0.2; however, version 20.1 is available.\n",
      "You should consider upgrading via the '/usr/bin/python3 -m pip install --upgrade pip' command.\u001b[0m\n"
     ]
    }
   ],
   "source": [
    "!pip3 install plotly\n"
   ]
  },
  {
   "cell_type": "code",
   "execution_count": 29,
   "metadata": {},
   "outputs": [
    {
     "name": "stdout",
     "output_type": "stream",
     "text": [
      "Defaulting to user installation because normal site-packages is not writeable\n",
      "Requirement already satisfied: chart-studio in /home/sromero/.local/lib/python3.6/site-packages (1.1.0)\n",
      "Requirement already satisfied: plotly in /home/sromero/.local/lib/python3.6/site-packages (from chart-studio) (4.7.1)\n",
      "Requirement already satisfied: retrying>=1.3.3 in /home/sromero/.local/lib/python3.6/site-packages (from chart-studio) (1.3.3)\n",
      "Requirement already satisfied: requests in /usr/lib/python3/dist-packages (from chart-studio) (2.18.4)\n",
      "Requirement already satisfied: six in /home/sromero/.local/lib/python3.6/site-packages (from chart-studio) (1.14.0)\n",
      "\u001b[33mWARNING: You are using pip version 20.0.2; however, version 20.1 is available.\n",
      "You should consider upgrading via the '/usr/bin/python3 -m pip install --upgrade pip' command.\u001b[0m\n"
     ]
    }
   ],
   "source": [
    "!pip install chart-studio"
   ]
  },
  {
   "cell_type": "code",
   "execution_count": null,
   "metadata": {},
   "outputs": [],
   "source": []
  },
  {
   "cell_type": "code",
   "execution_count": 30,
   "metadata": {},
   "outputs": [
    {
     "ename": "ImportError",
     "evalue": "\nThe plotly.plotly module is deprecated,\nplease install the chart-studio package and use the\nchart_studio.plotly module instead. \n",
     "output_type": "error",
     "traceback": [
      "\u001b[0;31m---------------------------------------------------------------------------\u001b[0m",
      "\u001b[0;31mImportError\u001b[0m                               Traceback (most recent call last)",
      "\u001b[0;32m<ipython-input-30-c56e3fa5ef8e>\u001b[0m in \u001b[0;36m<module>\u001b[0;34m\u001b[0m\n\u001b[1;32m      9\u001b[0m \u001b[0;32mimport\u001b[0m \u001b[0mrandom\u001b[0m\u001b[0;34m\u001b[0m\u001b[0;34m\u001b[0m\u001b[0m\n\u001b[1;32m     10\u001b[0m \u001b[0;32mimport\u001b[0m \u001b[0mplotly\u001b[0m\u001b[0;34m.\u001b[0m\u001b[0mgraph_objs\u001b[0m \u001b[0;32mas\u001b[0m \u001b[0mgo\u001b[0m\u001b[0;34m\u001b[0m\u001b[0;34m\u001b[0m\u001b[0m\n\u001b[0;32m---> 11\u001b[0;31m \u001b[0;32mimport\u001b[0m \u001b[0mplotly\u001b[0m\u001b[0;34m.\u001b[0m\u001b[0mplotly\u001b[0m \u001b[0;32mas\u001b[0m \u001b[0mpy\u001b[0m\u001b[0;34m\u001b[0m\u001b[0;34m\u001b[0m\u001b[0m\n\u001b[0m\u001b[1;32m     12\u001b[0m \u001b[0;32mimport\u001b[0m \u001b[0mcufflinks\u001b[0m\u001b[0;34m\u001b[0m\u001b[0;34m\u001b[0m\u001b[0m\n\u001b[1;32m     13\u001b[0m \u001b[0mpd\u001b[0m\u001b[0;34m.\u001b[0m\u001b[0moptions\u001b[0m\u001b[0;34m.\u001b[0m\u001b[0mdisplay\u001b[0m\u001b[0;34m.\u001b[0m\u001b[0mmax_columns\u001b[0m \u001b[0;34m=\u001b[0m \u001b[0;36m30\u001b[0m\u001b[0;34m\u001b[0m\u001b[0;34m\u001b[0m\u001b[0m\n",
      "\u001b[0;32m~/.local/lib/python3.6/site-packages/plotly/plotly/__init__.py\u001b[0m in \u001b[0;36m<module>\u001b[0;34m\u001b[0m\n\u001b[1;32m      2\u001b[0m \u001b[0;32mfrom\u001b[0m \u001b[0m_plotly_future_\u001b[0m \u001b[0;32mimport\u001b[0m \u001b[0m_chart_studio_error\u001b[0m\u001b[0;34m\u001b[0m\u001b[0;34m\u001b[0m\u001b[0m\n\u001b[1;32m      3\u001b[0m \u001b[0;34m\u001b[0m\u001b[0m\n\u001b[0;32m----> 4\u001b[0;31m \u001b[0m_chart_studio_error\u001b[0m\u001b[0;34m(\u001b[0m\u001b[0;34m\"plotly\"\u001b[0m\u001b[0;34m)\u001b[0m\u001b[0;34m\u001b[0m\u001b[0;34m\u001b[0m\u001b[0m\n\u001b[0m",
      "\u001b[0;32m~/.local/lib/python3.6/site-packages/_plotly_future_/__init__.py\u001b[0m in \u001b[0;36m_chart_studio_error\u001b[0;34m(submodule)\u001b[0m\n\u001b[1;32m     47\u001b[0m \u001b[0mchart_studio\u001b[0m\u001b[0;34m.\u001b[0m\u001b[0;34m{\u001b[0m\u001b[0msubmodule\u001b[0m\u001b[0;34m}\u001b[0m \u001b[0mmodule\u001b[0m \u001b[0minstead\u001b[0m\u001b[0;34m.\u001b[0m\u001b[0;34m\u001b[0m\u001b[0;34m\u001b[0m\u001b[0m\n\u001b[1;32m     48\u001b[0m \"\"\".format(\n\u001b[0;32m---> 49\u001b[0;31m             \u001b[0msubmodule\u001b[0m\u001b[0;34m=\u001b[0m\u001b[0msubmodule\u001b[0m\u001b[0;34m\u001b[0m\u001b[0;34m\u001b[0m\u001b[0m\n\u001b[0m\u001b[1;32m     50\u001b[0m         )\n\u001b[1;32m     51\u001b[0m     )\n",
      "\u001b[0;31mImportError\u001b[0m: \nThe plotly.plotly module is deprecated,\nplease install the chart-studio package and use the\nchart_studio.plotly module instead. \n"
     ]
    }
   ],
   "source": [
    "\n",
    "import pandas as pd\n",
    "import numpy as np\n",
    "from nltk.corpus import stopwords\n",
    "from sklearn.metrics.pairwise import linear_kernel\n",
    "from sklearn.feature_extraction.text import CountVectorizer\n",
    "from sklearn.feature_extraction.text import TfidfVectorizer\n",
    "from sklearn.decomposition import LatentDirichletAllocation\n",
    "import re\n",
    "import random\n",
    "import plotly.graph_objs as go\n",
    "import plotly.plotly as py\n",
    "import cufflinks\n",
    "pd.options.display.max_columns = 30\n",
    "from IPython.core.interactiveshell import InteractiveShell\n",
    "import plotly.figure_factory as ff\n",
    "InteractiveShell.ast_node_interactivity = 'all'\n",
    "from plotly.offline import iplot\n",
    "cufflinks.go_offline()\n",
    "cufflinks.set_config_file(world_readable=True, theme='solar')\n",
    "\n",
    "import pyLDAvis\n",
    "import pyLDAvis.sklearn\n",
    "pyLDAvis.enable_notebook()"
   ]
  },
  {
   "cell_type": "code",
   "execution_count": 17,
   "metadata": {},
   "outputs": [],
   "source": [
    "import pandas as pd\n",
    "import numpy as np\n",
    "import matplotlib.pyplot as plt"
   ]
  },
  {
   "cell_type": "code",
   "execution_count": 3,
   "metadata": {},
   "outputs": [
    {
     "data": {
      "text/html": [
       "<div>\n",
       "<style scoped>\n",
       "    .dataframe tbody tr th:only-of-type {\n",
       "        vertical-align: middle;\n",
       "    }\n",
       "\n",
       "    .dataframe tbody tr th {\n",
       "        vertical-align: top;\n",
       "    }\n",
       "\n",
       "    .dataframe thead th {\n",
       "        text-align: right;\n",
       "    }\n",
       "</style>\n",
       "<table border=\"1\" class=\"dataframe\">\n",
       "  <thead>\n",
       "    <tr style=\"text-align: right;\">\n",
       "      <th></th>\n",
       "      <th>Unnamed: 0</th>\n",
       "      <th>name</th>\n",
       "      <th>type</th>\n",
       "      <th>EFA</th>\n",
       "      <th>thc_input</th>\n",
       "      <th>cbd_input</th>\n",
       "    </tr>\n",
       "  </thead>\n",
       "  <tbody>\n",
       "    <tr>\n",
       "      <th>0</th>\n",
       "      <td>0</td>\n",
       "      <td>100 OG</td>\n",
       "      <td>Hybrid</td>\n",
       "      <td>Focused, Citrus, Depression</td>\n",
       "      <td>127.000000</td>\n",
       "      <td>16.0</td>\n",
       "    </tr>\n",
       "    <tr>\n",
       "      <th>1</th>\n",
       "      <td>1</td>\n",
       "      <td>A-10</td>\n",
       "      <td>Indica</td>\n",
       "      <td>Relaxed, Happy, Uplifted, Energetic, Sleepy, D...</td>\n",
       "      <td>858.444444</td>\n",
       "      <td>13.0</td>\n",
       "    </tr>\n",
       "    <tr>\n",
       "      <th>2</th>\n",
       "      <td>2</td>\n",
       "      <td>Acapulco Gold</td>\n",
       "      <td>Sativa</td>\n",
       "      <td>Happy, Euphoric, Uplifted, Relaxed, Creative, ...</td>\n",
       "      <td>924.312500</td>\n",
       "      <td>30.0</td>\n",
       "    </tr>\n",
       "    <tr>\n",
       "      <th>3</th>\n",
       "      <td>3</td>\n",
       "      <td>Afghani Bullrider</td>\n",
       "      <td>Hybrid</td>\n",
       "      <td>Uplifted, Relaxed, Happy, Euphoric, Dry Mouth,...</td>\n",
       "      <td>127.000000</td>\n",
       "      <td>16.0</td>\n",
       "    </tr>\n",
       "    <tr>\n",
       "      <th>4</th>\n",
       "      <td>4</td>\n",
       "      <td>Afghan Big Bud</td>\n",
       "      <td>Indica</td>\n",
       "      <td>Euphoric, Happy, Talkative, Relaxed, Sleepy, D...</td>\n",
       "      <td>858.444444</td>\n",
       "      <td>13.0</td>\n",
       "    </tr>\n",
       "  </tbody>\n",
       "</table>\n",
       "</div>"
      ],
      "text/plain": [
       "   Unnamed: 0               name    type  \\\n",
       "0           0             100 OG  Hybrid   \n",
       "1           1               A-10  Indica   \n",
       "2           2      Acapulco Gold  Sativa   \n",
       "3           3  Afghani Bullrider  Hybrid   \n",
       "4           4     Afghan Big Bud  Indica   \n",
       "\n",
       "                                                 EFA   thc_input  cbd_input  \n",
       "0                        Focused, Citrus, Depression  127.000000       16.0  \n",
       "1  Relaxed, Happy, Uplifted, Energetic, Sleepy, D...  858.444444       13.0  \n",
       "2  Happy, Euphoric, Uplifted, Relaxed, Creative, ...  924.312500       30.0  \n",
       "3  Uplifted, Relaxed, Happy, Euphoric, Dry Mouth,...  127.000000       16.0  \n",
       "4  Euphoric, Happy, Talkative, Relaxed, Sleepy, D...  858.444444       13.0  "
      ]
     },
     "execution_count": 3,
     "metadata": {},
     "output_type": "execute_result"
    }
   ],
   "source": [
    "data = pd.read_csv('data_weed.csv')\n",
    "data.head()"
   ]
  },
  {
   "cell_type": "code",
   "execution_count": 4,
   "metadata": {},
   "outputs": [],
   "source": [
    "data = data.rename(columns={'Unnamed: 0': 'id strain'})"
   ]
  },
  {
   "cell_type": "code",
   "execution_count": 5,
   "metadata": {},
   "outputs": [
    {
     "data": {
      "text/plain": [
       "(942, 6)"
      ]
     },
     "execution_count": 5,
     "metadata": {},
     "output_type": "execute_result"
    }
   ],
   "source": [
    "data.shape\n"
   ]
  },
  {
   "cell_type": "code",
   "execution_count": 6,
   "metadata": {},
   "outputs": [
    {
     "name": "stdout",
     "output_type": "stream",
     "text": [
      "Energetic, Uplifted, Happy, Creative, Focused, Dry Mouth, Anxious, Sweet, Citrus, Depression, Stress, Pain\n",
      "Name: Aloha\n"
     ]
    }
   ],
   "source": [
    "\n",
    "def print_description(index):\n",
    "    example = data[data.index == index][['EFA', 'name']].values[0]\n",
    "    if len(example) > 0:\n",
    "        print(example[0])\n",
    "        print('Name:', example[1])\n",
    "print_description(10)"
   ]
  },
  {
   "cell_type": "code",
   "execution_count": 10,
   "metadata": {},
   "outputs": [
    {
     "name": "stdout",
     "output_type": "stream",
     "text": [
      "Relaxed, Happy, Sleepy, Tingly, Dry Mouth, Citrus, Sweet, Muscle Spasms, Stress, Pain, Inflammation, Insomnia\n",
      "Name: Sweet Baby Jane\n"
     ]
    }
   ],
   "source": [
    "print_description(900)"
   ]
  },
  {
   "cell_type": "code",
   "execution_count": 12,
   "metadata": {},
   "outputs": [],
   "source": [
    "def get_top_n_words(corpus, n=None):\n",
    "    vec = CountVectorizer().fit(corpus)\n",
    "    bag_of_words = vec.transform(corpus)\n",
    "    sum_words = bag_of_words.sum(axis=0) \n",
    "    words_freq = [(word, sum_words[0, idx]) for word, idx in vec.vocabulary_.items()]\n",
    "    words_freq =sorted(words_freq, key = lambda x: x[1], reverse=True)\n",
    "    return words_freq[:n]\n"
   ]
  },
  {
   "cell_type": "code",
   "execution_count": 23,
   "metadata": {},
   "outputs": [
    {
     "data": {
      "text/html": [
       "<div>\n",
       "<style scoped>\n",
       "    .dataframe tbody tr th:only-of-type {\n",
       "        vertical-align: middle;\n",
       "    }\n",
       "\n",
       "    .dataframe tbody tr th {\n",
       "        vertical-align: top;\n",
       "    }\n",
       "\n",
       "    .dataframe thead th {\n",
       "        text-align: right;\n",
       "    }\n",
       "</style>\n",
       "<table border=\"1\" class=\"dataframe\">\n",
       "  <thead>\n",
       "    <tr style=\"text-align: right;\">\n",
       "      <th></th>\n",
       "      <th>0</th>\n",
       "      <th>1</th>\n",
       "      <th>2</th>\n",
       "      <th>3</th>\n",
       "      <th>4</th>\n",
       "      <th>5</th>\n",
       "      <th>6</th>\n",
       "      <th>7</th>\n",
       "      <th>8</th>\n",
       "      <th>9</th>\n",
       "      <th>...</th>\n",
       "      <th>41</th>\n",
       "      <th>42</th>\n",
       "      <th>43</th>\n",
       "      <th>44</th>\n",
       "      <th>45</th>\n",
       "      <th>46</th>\n",
       "      <th>47</th>\n",
       "      <th>48</th>\n",
       "      <th>49</th>\n",
       "      <th>50</th>\n",
       "    </tr>\n",
       "  </thead>\n",
       "  <tbody>\n",
       "    <tr>\n",
       "      <th>desc</th>\n",
       "      <td>stress</td>\n",
       "      <td>happy</td>\n",
       "      <td>dry</td>\n",
       "      <td>mouth</td>\n",
       "      <td>pain</td>\n",
       "      <td>depression</td>\n",
       "      <td>relaxed</td>\n",
       "      <td>euphoric</td>\n",
       "      <td>uplifted</td>\n",
       "      <td>earthy</td>\n",
       "      <td>...</td>\n",
       "      <td>pineapple</td>\n",
       "      <td>strawberry</td>\n",
       "      <td>lavender</td>\n",
       "      <td>honey</td>\n",
       "      <td>coffee</td>\n",
       "      <td>rose</td>\n",
       "      <td>vanilla</td>\n",
       "      <td>seizures</td>\n",
       "      <td>mint</td>\n",
       "      <td>apple</td>\n",
       "    </tr>\n",
       "    <tr>\n",
       "      <th>count</th>\n",
       "      <td>836</td>\n",
       "      <td>812</td>\n",
       "      <td>803</td>\n",
       "      <td>803</td>\n",
       "      <td>754</td>\n",
       "      <td>753</td>\n",
       "      <td>720</td>\n",
       "      <td>700</td>\n",
       "      <td>593</td>\n",
       "      <td>509</td>\n",
       "      <td>...</td>\n",
       "      <td>17</td>\n",
       "      <td>17</td>\n",
       "      <td>14</td>\n",
       "      <td>13</td>\n",
       "      <td>12</td>\n",
       "      <td>10</td>\n",
       "      <td>8</td>\n",
       "      <td>7</td>\n",
       "      <td>6</td>\n",
       "      <td>1</td>\n",
       "    </tr>\n",
       "  </tbody>\n",
       "</table>\n",
       "<p>2 rows × 51 columns</p>\n",
       "</div>"
      ],
      "text/plain": [
       "           0      1    2      3     4           5        6         7   \\\n",
       "desc   stress  happy  dry  mouth  pain  depression  relaxed  euphoric   \n",
       "count     836    812  803    803   754         753      720       700   \n",
       "\n",
       "             8       9   ...         41          42        43     44      45  \\\n",
       "desc   uplifted  earthy  ...  pineapple  strawberry  lavender  honey  coffee   \n",
       "count       593     509  ...         17          17        14     13      12   \n",
       "\n",
       "         46       47        48    49     50  \n",
       "desc   rose  vanilla  seizures  mint  apple  \n",
       "count    10        8         7     6      1  \n",
       "\n",
       "[2 rows x 51 columns]"
      ]
     },
     "execution_count": 23,
     "metadata": {},
     "output_type": "execute_result"
    }
   ],
   "source": [
    "common_words = get_top_n_words(data['EFA'])\n",
    "df1 = pd.DataFrame(common_words, columns = ['desc' , 'count'])\n",
    "df1.T\n"
   ]
  },
  {
   "cell_type": "code",
   "execution_count": 24,
   "metadata": {},
   "outputs": [
    {
     "data": {
      "image/png": "[encoded data removed]",
      "text/plain": [
       "<Figure size 432x288 with 1 Axes>"
      ]
     },
     "metadata": {
      "needs_background": "light"
     },
     "output_type": "display_data"
    }
   ],
   "source": [
    "hist = df1.hist()"
   ]
  },
  {
   "cell_type": "code",
   "execution_count": 31,
   "metadata": {},
   "outputs": [],
   "source": [
    "\n",
    "data['word_count'] = data['EFA'].apply(lambda x: len(str(x).split()))"
   ]
  },
  {
   "cell_type": "code",
   "execution_count": 32,
   "metadata": {},
   "outputs": [
    {
     "name": "stdout",
     "output_type": "stream",
     "text": [
      "Number of descriptions: 942 \n",
      "Average word count 14.501061571125266 \n",
      "Minimum word count 3 \n",
      "Maximum word count 20\n"
     ]
    }
   ],
   "source": [
    "desc_lengths = list(data['word_count'])\n",
    "\n",
    "print(\"Number of descriptions:\",len(desc_lengths),\n",
    "      \"\\nAverage word count\", np.average(desc_lengths),\n",
    "      \"\\nMinimum word count\", min(desc_lengths),\n",
    "      \"\\nMaximum word count\", max(desc_lengths))"
   ]
  },
  {
   "cell_type": "code",
   "execution_count": 33,
   "metadata": {},
   "outputs": [],
   "source": [
    "data.set_index('name', inplace = True)"
   ]
  },
  {
   "cell_type": "code",
   "execution_count": 38,
   "metadata": {},
   "outputs": [
    {
     "data": {
      "text/html": [
       "<div>\n",
       "<style scoped>\n",
       "    .dataframe tbody tr th:only-of-type {\n",
       "        vertical-align: middle;\n",
       "    }\n",
       "\n",
       "    .dataframe tbody tr th {\n",
       "        vertical-align: top;\n",
       "    }\n",
       "\n",
       "    .dataframe thead th {\n",
       "        text-align: right;\n",
       "    }\n",
       "</style>\n",
       "<table border=\"1\" class=\"dataframe\">\n",
       "  <thead>\n",
       "    <tr style=\"text-align: right;\">\n",
       "      <th></th>\n",
       "      <th>type</th>\n",
       "      <th>EFA</th>\n",
       "      <th>thc_input</th>\n",
       "      <th>cbd_input</th>\n",
       "      <th>word_count</th>\n",
       "    </tr>\n",
       "    <tr>\n",
       "      <th>name</th>\n",
       "      <th></th>\n",
       "      <th></th>\n",
       "      <th></th>\n",
       "      <th></th>\n",
       "      <th></th>\n",
       "    </tr>\n",
       "  </thead>\n",
       "  <tbody>\n",
       "    <tr>\n",
       "      <th>100 OG</th>\n",
       "      <td>Hybrid</td>\n",
       "      <td>Focused, Citrus, Depression</td>\n",
       "      <td>127.000000</td>\n",
       "      <td>16.0</td>\n",
       "      <td>3</td>\n",
       "    </tr>\n",
       "    <tr>\n",
       "      <th>A-10</th>\n",
       "      <td>Indica</td>\n",
       "      <td>Relaxed, Happy, Uplifted, Energetic, Sleepy, D...</td>\n",
       "      <td>858.444444</td>\n",
       "      <td>13.0</td>\n",
       "      <td>16</td>\n",
       "    </tr>\n",
       "    <tr>\n",
       "      <th>Acapulco Gold</th>\n",
       "      <td>Sativa</td>\n",
       "      <td>Happy, Euphoric, Uplifted, Relaxed, Creative, ...</td>\n",
       "      <td>924.312500</td>\n",
       "      <td>30.0</td>\n",
       "      <td>17</td>\n",
       "    </tr>\n",
       "    <tr>\n",
       "      <th>Afghani Bullrider</th>\n",
       "      <td>Hybrid</td>\n",
       "      <td>Uplifted, Relaxed, Happy, Euphoric, Dry Mouth,...</td>\n",
       "      <td>127.000000</td>\n",
       "      <td>16.0</td>\n",
       "      <td>14</td>\n",
       "    </tr>\n",
       "    <tr>\n",
       "      <th>Afghan Big Bud</th>\n",
       "      <td>Indica</td>\n",
       "      <td>Euphoric, Happy, Talkative, Relaxed, Sleepy, D...</td>\n",
       "      <td>858.444444</td>\n",
       "      <td>13.0</td>\n",
       "      <td>15</td>\n",
       "    </tr>\n",
       "    <tr>\n",
       "      <th>...</th>\n",
       "      <td>...</td>\n",
       "      <td>...</td>\n",
       "      <td>...</td>\n",
       "      <td>...</td>\n",
       "      <td>...</td>\n",
       "    </tr>\n",
       "    <tr>\n",
       "      <th>X-Wing</th>\n",
       "      <td>Indica</td>\n",
       "      <td>Happy, Sleepy, Relaxed, Creative, Hungry, Dry ...</td>\n",
       "      <td>858.444444</td>\n",
       "      <td>13.0</td>\n",
       "      <td>16</td>\n",
       "    </tr>\n",
       "    <tr>\n",
       "      <th>XXX 420</th>\n",
       "      <td>Indica</td>\n",
       "      <td>Relaxed, Talkative, Happy, Uplifted, Energetic...</td>\n",
       "      <td>858.444444</td>\n",
       "      <td>13.0</td>\n",
       "      <td>17</td>\n",
       "    </tr>\n",
       "    <tr>\n",
       "      <th>XXX OG</th>\n",
       "      <td>Indica</td>\n",
       "      <td>Sleepy, Relaxed, Happy, Euphoric, Uplifted, Dr...</td>\n",
       "      <td>858.444444</td>\n",
       "      <td>13.0</td>\n",
       "      <td>17</td>\n",
       "    </tr>\n",
       "    <tr>\n",
       "      <th>Zkittlez</th>\n",
       "      <td>Indica</td>\n",
       "      <td>Relaxed, Happy, Euphoric, Uplifted, Creative, ...</td>\n",
       "      <td>858.444444</td>\n",
       "      <td>13.0</td>\n",
       "      <td>16</td>\n",
       "    </tr>\n",
       "    <tr>\n",
       "      <th>Zoom Pie</th>\n",
       "      <td>Indica</td>\n",
       "      <td>Hungry, Uplifted, Relaxed, Happy, Berry, Earth...</td>\n",
       "      <td>858.444444</td>\n",
       "      <td>13.0</td>\n",
       "      <td>13</td>\n",
       "    </tr>\n",
       "  </tbody>\n",
       "</table>\n",
       "<p>942 rows × 5 columns</p>\n",
       "</div>"
      ],
      "text/plain": [
       "                     type                                                EFA  \\\n",
       "name                                                                           \n",
       "100 OG             Hybrid                        Focused, Citrus, Depression   \n",
       "A-10               Indica  Relaxed, Happy, Uplifted, Energetic, Sleepy, D...   \n",
       "Acapulco Gold      Sativa  Happy, Euphoric, Uplifted, Relaxed, Creative, ...   \n",
       "Afghani Bullrider  Hybrid  Uplifted, Relaxed, Happy, Euphoric, Dry Mouth,...   \n",
       "Afghan Big Bud     Indica  Euphoric, Happy, Talkative, Relaxed, Sleepy, D...   \n",
       "...                   ...                                                ...   \n",
       "X-Wing             Indica  Happy, Sleepy, Relaxed, Creative, Hungry, Dry ...   \n",
       "XXX 420            Indica  Relaxed, Talkative, Happy, Uplifted, Energetic...   \n",
       "XXX OG             Indica  Sleepy, Relaxed, Happy, Euphoric, Uplifted, Dr...   \n",
       "Zkittlez           Indica  Relaxed, Happy, Euphoric, Uplifted, Creative, ...   \n",
       "Zoom Pie           Indica  Hungry, Uplifted, Relaxed, Happy, Berry, Earth...   \n",
       "\n",
       "                    thc_input  cbd_input  word_count  \n",
       "name                                                  \n",
       "100 OG             127.000000       16.0           3  \n",
       "A-10               858.444444       13.0          16  \n",
       "Acapulco Gold      924.312500       30.0          17  \n",
       "Afghani Bullrider  127.000000       16.0          14  \n",
       "Afghan Big Bud     858.444444       13.0          15  \n",
       "...                       ...        ...         ...  \n",
       "X-Wing             858.444444       13.0          16  \n",
       "XXX 420            858.444444       13.0          17  \n",
       "XXX OG             858.444444       13.0          17  \n",
       "Zkittlez           858.444444       13.0          16  \n",
       "Zoom Pie           858.444444       13.0          13  \n",
       "\n",
       "[942 rows x 5 columns]"
      ]
     },
     "execution_count": 38,
     "metadata": {},
     "output_type": "execute_result"
    }
   ],
   "source": [
    "data=data.drop(columns=['id strain'])\n",
    "data"
   ]
  },
  {
   "cell_type": "code",
   "execution_count": null,
   "metadata": {},
   "outputs": [],
   "source": [
    "#nlp=English()\n",
    "#tokenizer = Tokenizer(nlp.vocab)"
   ]
  },
  {
   "cell_type": "code",
   "execution_count": 39,
   "metadata": {},
   "outputs": [],
   "source": [
    "tf = TfidfVectorizer(analyzer='word', stop_words='english')"
   ]
  },
  {
   "cell_type": "code",
   "execution_count": 40,
   "metadata": {},
   "outputs": [],
   "source": [
    "matrix1 = tf.fit_transform(data['EFA'])\n",
    "cosine_similarities = linear_kernel(matrix1, matrix1)"
   ]
  },
  {
   "cell_type": "code",
   "execution_count": 41,
   "metadata": {},
   "outputs": [],
   "source": [
    "\n",
    "indices = pd.Series(data.index)"
   ]
  },
  {
   "cell_type": "code",
   "execution_count": 42,
   "metadata": {},
   "outputs": [
    {
     "data": {
      "text/plain": [
       "0                     100 OG\n",
       "1                       A-10\n",
       "2              Acapulco Gold\n",
       "3          Afghani Bullrider\n",
       "4             Afghan Big Bud\n",
       "5                    Afghani\n",
       "6                   Afghooey\n",
       "7                      Afgoo\n",
       "8                    Afgooey\n",
       "9       Alaskan Thunder Fuck\n",
       "10                     Aloha\n",
       "11              Amnesia Haze\n",
       "12                Anesthesia\n",
       "13            BC Sweet Tooth\n",
       "14                  Berkeley\n",
       "15               Berry White\n",
       "16                   Big Bud\n",
       "17                 Big Wreck\n",
       "18              Black Domina\n",
       "19          Black Label Kush\n",
       "20      Blackberry Hashplant\n",
       "21           Blackberry Kush\n",
       "22                Blue Bayou\n",
       "23               Blue Cheese\n",
       "24               Blue Mystic\n",
       "25            Blue Satellite\n",
       "26                 Blueberry\n",
       "27            Blueberry Kush\n",
       "28           Brainstorm Haze\n",
       "29                Bubba Kush\n",
       "30                  Bubba OG\n",
       "31                  C13 Haze\n",
       "32            Cannalope Haze\n",
       "33               Casey Jones\n",
       "34                  Cat Piss\n",
       "35            Chocolate Kush\n",
       "36                 Chocolope\n",
       "37                 Church OG\n",
       "38              Cracker Jack\n",
       "39             Critical Mass\n",
       "40            Darth Vader OG\n",
       "41                Death Star\n",
       "42               Deep Purple\n",
       "43                    Diablo\n",
       "44        DJ Short Blueberry\n",
       "45             Double Diesel\n",
       "46             Durban Poison\n",
       "47                Early Girl\n",
       "48    East Coast Sour Diesel\n",
       "49                 Fire Haze\n",
       "Name: name, dtype: object"
      ]
     },
     "execution_count": 42,
     "metadata": {},
     "output_type": "execute_result"
    }
   ],
   "source": [
    "indices[:50]"
   ]
  },
  {
   "cell_type": "code",
   "execution_count": 43,
   "metadata": {},
   "outputs": [],
   "source": [
    "def recommendations(name, cosine_similarities = cosine_similarities):\n",
    "    \n",
    "    recommended_weed = []\n",
    "    \n",
    "    # gettin the index of the hotel that matches the name\n",
    "    idx = indices[indices == name].index[0]\n",
    "\n",
    "    # creating a Series with the similarity scores in descending order\n",
    "    score_series = pd.Series(cosine_similarities[idx]).sort_values(ascending = False)\n",
    "\n",
    "    # getting the indexes of the 10 most similar hotels except itself\n",
    "    top_10_indexes = list(score_series.iloc[1:11].index)\n",
    "    \n",
    "    # populating the list with the names of the top 10 matching hotels\n",
    "    for i in top_10_indexes:\n",
    "        recommended_hotels.append(list(df.index)[i])\n",
    "        \n",
    "    return recommended_weed"
   ]
  },
  {
   "cell_type": "code",
   "execution_count": null,
   "metadata": {},
   "outputs": [],
   "source": []
  },
  {
   "cell_type": "code",
   "execution_count": null,
   "metadata": {},
   "outputs": [],
   "source": []
  },
  {
   "cell_type": "code",
   "execution_count": null,
   "metadata": {},
   "outputs": [],
   "source": []
  }
 ],
 "metadata": {
  "kernelspec": {
   "display_name": "Python 3",
   "language": "python",
   "name": "python3"
  },
  "language_info": {
   "codemirror_mode": {
    "name": "ipython",
    "version": 3
   },
   "file_extension": ".py",
   "mimetype": "text/x-python",
   "name": "python",
   "nbconvert_exporter": "python",
   "pygments_lexer": "ipython3",
   "version": "3.6.9"
  }
 },
 "nbformat": 4,
 "nbformat_minor": 4
}
